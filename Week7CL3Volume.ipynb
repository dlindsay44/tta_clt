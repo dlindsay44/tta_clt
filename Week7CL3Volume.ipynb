{
 "cells": [
  {
   "cell_type": "code",
   "execution_count": 8,
   "metadata": {},
   "outputs": [
    {
     "name": "stdout",
     "output_type": "stream",
     "text": [
      "The box's volume is: 3391.4384900000005\n"
     ]
    }
   ],
   "source": [
    "\"\"\"\n",
    "Write a program that includes a procedure to multiply 3 numbers together\n",
    "and outputs the result. Follow the instructions below:\n",
    "\n",
    "1.In the main body of the program input the lengths of the box: width, \n",
    "depth and height.\n",
    "\n",
    "2. Use the procedure to calculate the volume of the box.\n",
    "\n",
    "3. Modify the procedure to a function to return the volume and output the\n",
    "volume in the main program.\n",
    "\"\"\"\n",
    "def boxfun(width, depth, height): #Function to calculate and return volume\n",
    "    volcalc = width * depth * height\n",
    "    return volcalc\n",
    "\n",
    "def boxproc(): #Procedure to take inputs, handle data type errors, put lengths into function, and print volume\n",
    "    while True:\n",
    "        try:\n",
    "            w = float(input(\"Welcome to the box volume calculator. First, enter box width: \"))\n",
    "            break\n",
    "        except ValueError:\n",
    "            print(\"Incorrect data type. Please enter box width: \")\n",
    "    while True:\n",
    "        try:\n",
    "            d = float(input(\"Next, enter box depth: \"))\n",
    "            break\n",
    "        except ValueError:\n",
    "            print(\"Incorrect data type. Please enter box depth: \")\n",
    "    while True:\n",
    "        try:\n",
    "            h = float(input(\"Finally, enter box height: \"))\n",
    "            break\n",
    "        except ValueError:\n",
    "            print(\"Incorrect data type. Please enter box height: \")\n",
    "    volume = boxfun(w, d, h)\n",
    "    print(\"The box's volume is:\", volume)\n",
    "\n",
    "boxproc() #Calls procedure\n"
   ]
  }
 ],
 "metadata": {
  "kernelspec": {
   "display_name": "Python 3",
   "language": "python",
   "name": "python3"
  },
  "language_info": {
   "codemirror_mode": {
    "name": "ipython",
    "version": 3
   },
   "file_extension": ".py",
   "mimetype": "text/x-python",
   "name": "python",
   "nbconvert_exporter": "python",
   "pygments_lexer": "ipython3",
   "version": "3.10.9"
  },
  "orig_nbformat": 4,
  "vscode": {
   "interpreter": {
    "hash": "339c49f04c3c286d79b527c9db313156473993867e5da21147d8587653a2178b"
   }
  }
 },
 "nbformat": 4,
 "nbformat_minor": 2
}
