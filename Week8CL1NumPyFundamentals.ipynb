{
 "cells": [
  {
   "cell_type": "code",
   "execution_count": 2,
   "metadata": {},
   "outputs": [
    {
     "name": "stdout",
     "output_type": "stream",
     "text": [
      "[0 1 2 3 4 5 6 7 8 9]\n"
     ]
    }
   ],
   "source": [
    "\"\"\"\n",
    "Complete the following short fundamental NumPy tasks.\n",
    "1. Create a 1d array of numbers from 0 to 9.\n",
    "2. Convert a 1d array to a 2d array with 2 rows.\n",
    "3. Write a NumPy program to create an array of the integers from 30 to 70.\n",
    "4. Write a NumPy program to append values to the end of an array.\n",
    "\"\"\"\n",
    "#1. Create a 1d array of numbers from 0 to 9.\n",
    "import numpy as np #Imports NumPy so it can be used using 'np' alias.\n",
    "arr = np.array([0, 1, 2, 3, 4, 5, 6, 7, 8, 9]) #'np.array' to create array, one set of square brackets for 1d array.\n",
    "print(arr)"
   ]
  },
  {
   "cell_type": "code",
   "execution_count": 5,
   "metadata": {},
   "outputs": [
    {
     "name": "stdout",
     "output_type": "stream",
     "text": [
      "[[0 1 2 3 4]\n",
      " [5 6 7 8 9]]\n"
     ]
    }
   ],
   "source": [
    "#2. Convert a 1d array to a 2d array with 2 rows.\n",
    "import numpy as np\n",
    "arr = np.array([0, 1, 2, 3, 4, 5, 6, 7, 8, 9])\n",
    "newarr = arr.reshape(2, 5) #'arr.reshape' converts 'arr' to 2d array (2 integers in brackets) with 2 arrays of 5 elements each (2, 5).\n",
    "print(newarr)"
   ]
  },
  {
   "cell_type": "code",
   "execution_count": 9,
   "metadata": {},
   "outputs": [
    {
     "name": "stdout",
     "output_type": "stream",
     "text": [
      "[30 31 32 33 34 35 36 37 38 39 40 41 42 43 44 45 46 47 48 49 50 51 52 53\n",
      " 54 55 56 57 58 59 60 61 62 63 64 65 66 67 68 69 70]\n"
     ]
    }
   ],
   "source": [
    "#3. Write a NumPy Program to create an array of the integers from 30 to 70.\n",
    "import numpy as np\n",
    "arr = np.arange(30, 71) #'arange' returns values between given integers, including first int but excluding second\n",
    "print(arr)"
   ]
  },
  {
   "cell_type": "code",
   "execution_count": 27,
   "metadata": {},
   "outputs": [
    {
     "name": "stdout",
     "output_type": "stream",
     "text": [
      "[0 1 2 3 4 5 6 7 8 9]\n",
      "[ 0  1  2  3  4  5  6  7  8  9 10 11 12]\n"
     ]
    }
   ],
   "source": [
    "#4. Write a NumPy program to append values to the end of an array.\n",
    "import numpy as np\n",
    "arr = np.array([0, 1, 2, 3, 4, 5, 6, 7, 8, 9])\n",
    "print(arr)\n",
    "arr = np.append(arr, [10, 11, 12]) #'append' adds values to end of array\n",
    "print(arr)"
   ]
  },
  {
   "cell_type": "code",
   "execution_count": 52,
   "metadata": {},
   "outputs": [
    {
     "name": "stdout",
     "output_type": "stream",
     "text": [
      "array:\n",
      "[[1 2 3]\n",
      " [4 5 6]]\n",
      "(rows, columns): (2, 3)\n"
     ]
    }
   ],
   "source": [
    "\"\"\"\n",
    "Extension\n",
    "1. Write a NumPy program to find\n",
    "the number of rows and columns of\n",
    "a given matrix.\n",
    "2. Write a NumPy program to create\n",
    "an array of all the even integers\n",
    "from 30 to 70.\n",
    "3. Write a NumPy program to\n",
    "convert a list and tuple into arrays.\n",
    "4. Write a NumPy program to\n",
    "create a structured array from\n",
    "given student name, height, class\n",
    "and their data types.\n",
    "\n",
    "data type = [('name, 'S15'), ('class,\n",
    "int), ('height, float)]\n",
    "students_details = [('James, 5, 48.5),\n",
    "('Nail, 6, 52.5), ( 'Paul', 5, 42.10), (Pit,\n",
    "5, 40.11)]\n",
    "\n",
    "Now sort the array on height\n",
    "\"\"\"\n",
    "#1. Write a NumPy program to find the number of rows and columns of a given matrix.\n",
    "import numpy as np\n",
    "arr = np.array([[1, 2, 3], [4, 5, 6]]) \n",
    "print(\"array:\")\n",
    "print(arr)\n",
    "print(\"(rows, columns):\", arr.shape) #'shape' returns number of elements in each dimension.\n"
   ]
  },
  {
   "cell_type": "code",
   "execution_count": 50,
   "metadata": {},
   "outputs": [
    {
     "name": "stdout",
     "output_type": "stream",
     "text": [
      "30\n",
      "32\n",
      "34\n",
      "36\n",
      "38\n",
      "40\n",
      "42\n",
      "44\n",
      "46\n",
      "48\n",
      "50\n",
      "52\n",
      "54\n",
      "56\n",
      "58\n",
      "60\n",
      "62\n",
      "64\n",
      "66\n",
      "68\n",
      "70\n"
     ]
    }
   ],
   "source": [
    "#2. Write a NumPy program to create an array of all the even integers from 30 to 70.\n",
    "import numpy as np\n",
    "arr = np.arange(30, 71)\n",
    "for x in np.nditer(arr[::2]): #'nditer' iterates every element in (arr), [::2] skips one element.\n",
    "    print(x)"
   ]
  },
  {
   "cell_type": "code",
   "execution_count": 56,
   "metadata": {},
   "outputs": [
    {
     "name": "stdout",
     "output_type": "stream",
     "text": [
      "[1, 2, 3]\n",
      "<class 'list'>\n",
      "(4, 5, 6)\n",
      "<class 'tuple'>\n",
      "[1 2 3]\n",
      "<class 'numpy.ndarray'>\n",
      "[4 5 6]\n",
      "<class 'numpy.ndarray'>\n"
     ]
    }
   ],
   "source": [
    "#3. Write a NumPy program to convert a list and tuple into arrays.\n",
    "import numpy as np\n",
    "list_x = [1, 2, 3] #list\n",
    "tuple_y = (4, 5, 6) #tuple\n",
    "\n",
    "print(list_x)\n",
    "print(type(list_x)) #prints data type\n",
    "print(tuple_y)\n",
    "print(type(tuple_y))\n",
    "\n",
    "conv_list = np.array(list_x) #converts to array\n",
    "conv_tuple = np.array(tuple_y)\n",
    "\n",
    "print(conv_list)\n",
    "print(type(conv_list)) \n",
    "print(conv_tuple)\n",
    "print(type(conv_tuple))"
   ]
  },
  {
   "cell_type": "code",
   "execution_count": 79,
   "metadata": {},
   "outputs": [
    {
     "name": "stdout",
     "output_type": "stream",
     "text": [
      "String max length: <U15\n",
      "[['Pit' '5' '40.11']\n",
      " ['Paul' '5' '42.1']\n",
      " ['James' '5' '48.5']\n",
      " ['Nail' '6' '52.5']\n",
      " ['Name(s15)' 'Class(int)' 'Height(float)']]\n"
     ]
    }
   ],
   "source": [
    "\"\"\"\n",
    "4. Write a NumPy program to\n",
    "create a structured array from\n",
    "given student name, height, class\n",
    "and their data types.\n",
    "\n",
    "data type = [('name, 'S15'), ('class,\n",
    "int), ('height, float)]\n",
    "students_details = [('James, 5, 48.5),\n",
    "('Nail, 6, 52.5), ( 'Paul', 5, 42.10), (Pit,\n",
    "5, 40.11)]\n",
    "\n",
    "Now sort the array on height\n",
    "\"\"\"\n",
    "import numpy as np\n",
    "arr = np.array([['Name(s15)', 'Class(int)', 'Height(float)'], ['James', int(5), float(48.5)], ['Nail', int(6), float(52.5)], \n",
    "['Paul', int(5), float(42.1)], ['Pit', int(5), float(40.11)]], dtype='<U15') #'dtype' sets max string length to 15\n",
    "print('String max length:', arr.dtype) #Print string max length\n",
    "arrh = arr[arr[:, 2].argsort()] #Print array sorted by height[2] (low to high)\n",
    "print(arrh)"
   ]
  }
 ],
 "metadata": {
  "kernelspec": {
   "display_name": "Python 3",
   "language": "python",
   "name": "python3"
  },
  "language_info": {
   "codemirror_mode": {
    "name": "ipython",
    "version": 3
   },
   "file_extension": ".py",
   "mimetype": "text/x-python",
   "name": "python",
   "nbconvert_exporter": "python",
   "pygments_lexer": "ipython3",
   "version": "3.10.9"
  },
  "orig_nbformat": 4,
  "vscode": {
   "interpreter": {
    "hash": "339c49f04c3c286d79b527c9db313156473993867e5da21147d8587653a2178b"
   }
  }
 },
 "nbformat": 4,
 "nbformat_minor": 2
}
