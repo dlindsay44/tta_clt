{
 "cells": [
  {
   "cell_type": "code",
   "execution_count": 2,
   "metadata": {},
   "outputs": [
    {
     "name": "stdout",
     "output_type": "stream",
     "text": [
      "['apple', 'orange', 'pear']\n",
      "orange\n"
     ]
    }
   ],
   "source": [
    "\"\"\"\n",
    "Creates a list of\n",
    "three fruits:\n",
    "1. Outputs all the\n",
    "fruits in the list\n",
    "2. Outputs the\n",
    "second fruit in\n",
    "the list\n",
    "\"\"\"\n",
    "fruitlist = [\"apple\", \"orange\", \"pear\"]\n",
    "print(fruitlist)\n",
    "print(fruitlist[1])"
   ]
  },
  {
   "cell_type": "code",
   "execution_count": 3,
   "metadata": {},
   "outputs": [
    {
     "name": "stdout",
     "output_type": "stream",
     "text": [
      "{'orange', 'pear', 'apple'}\n",
      "{'melon', 'orange', 'pear', 'apple'}\n",
      "{'melon', 'orange', 'pear', 'apple'}\n"
     ]
    }
   ],
   "source": [
    "\"\"\"\n",
    "Creates a set of three\n",
    "fruits:\n",
    "1. Outputs all the fruits\n",
    "in the set\n",
    "2. Adds a new fruit to\n",
    "the set\n",
    "3. Outputs all the fruits\n",
    "in the set\n",
    "4. Tries to add a repeat\n",
    "of a fruit to the set\n",
    "5. Outputs all the fruits\n",
    "in the set\n",
    "\"\"\"\n",
    "fruitset = {\"apple\", \"orange\", \"pear\"}\n",
    "print(fruitset)\n",
    "fruitset.add(\"melon\")\n",
    "print(fruitset)\n",
    "fruitset.add(\"melon\")\n",
    "print(fruitset)\n",
    "\n"
   ]
  },
  {
   "cell_type": "code",
   "execution_count": 13,
   "metadata": {},
   "outputs": [
    {
     "name": "stdout",
     "output_type": "stream",
     "text": [
      "dict_keys(['apple', 'banana', 'pineapple'])\n",
      "£0.75\n",
      "Error\n"
     ]
    }
   ],
   "source": [
    "\"\"\"\n",
    "Creates a dictionary of\n",
    "three fruits with a\n",
    "corresponding price:\n",
    "1. Outputs all the fruits\n",
    "in the dictionary\n",
    "2. Outputs the price of\n",
    "the second fruit in the\n",
    "dictionary\n",
    "3. For a given fruit\n",
    "output its price if it is\n",
    "the dictionary or a\n",
    "message if it is not\n",
    "in the list\n",
    "\"\"\"\n",
    "fruitdict = {\n",
    "  \"apple\": \"£0.50\",\n",
    "  \"banana\": \"£0.75\",\n",
    "  \"pineapple\": \"£1\"\n",
    "}\n",
    "\n",
    "fruits = fruitdict.keys() #Prints fruits\n",
    "print(fruits)\n",
    "\n",
    "fruitprice = fruitdict[\"banana\"] #Prints price of second fruit\n",
    "print(fruitprice)\n",
    "\n",
    "fruit = input(\"Enter a fruit:\")\n",
    "if fruit in fruitdict:\n",
    "    fruitprice2 = fruitdict[fruit]\n",
    "    print(fruitprice2)\n",
    "else:\n",
    "    print(\"Error\")\n"
   ]
  }
 ],
 "metadata": {
  "kernelspec": {
   "display_name": "Python 3",
   "language": "python",
   "name": "python3"
  },
  "language_info": {
   "codemirror_mode": {
    "name": "ipython",
    "version": 3
   },
   "file_extension": ".py",
   "mimetype": "text/x-python",
   "name": "python",
   "nbconvert_exporter": "python",
   "pygments_lexer": "ipython3",
   "version": "3.10.9"
  },
  "orig_nbformat": 4,
  "vscode": {
   "interpreter": {
    "hash": "339c49f04c3c286d79b527c9db313156473993867e5da21147d8587653a2178b"
   }
  }
 },
 "nbformat": 4,
 "nbformat_minor": 2
}
