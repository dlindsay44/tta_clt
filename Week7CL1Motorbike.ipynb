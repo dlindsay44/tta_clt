{
 "cells": [
  {
   "cell_type": "code",
   "execution_count": 21,
   "metadata": {},
   "outputs": [
    {
     "name": "stdout",
     "output_type": "stream",
     "text": [
      "Year 0: The value of the motorbike is £2000.0\n",
      "Year 1: The value of the motorbike is £1800.0\n",
      "Year 2: The value of the motorbike is £1620.0\n",
      "Year 3: The value of the motorbike is £1458.0\n",
      "Year 4: The value of the motorbike is £1312.2\n",
      "Year 5: The value of the motorbike is £1180.98\n",
      "Year 6: The value of the motorbike is £1062.88\n"
     ]
    }
   ],
   "source": [
    "\"\"\"\n",
    "A motorbike costs £2k and loses 10% of its value each year.\n",
    "Using a loop, print the value of the bike every following \n",
    "year whilst the value of the bike is greater than £1k.\n",
    "Follow the instructions below:\n",
    "\n",
    "1. Store the value of the bike in a variable.\n",
    "2. Create a while loop which subtracts 10% of the bike's value\n",
    "until the value reaches £1k.\n",
    "\"\"\"\n",
    "motorbike = float(2000) #Stores variable \"motorbike\"\n",
    "year = int(0) #Stores variable \"year\"\n",
    "while motorbike > 1000: #Loops code below while value of motorbike > 1000\n",
    "    print(\"Year\", str(year) + \":\", \"The value of the motorbike is £\" + str(round(motorbike, 2))) #Prints value of motorbike to 2 d.p\n",
    "    motorbike = motorbike - (motorbike * 0.1) #Reduces value of motorbike by 10% of current value\n",
    "    year = year + 1 #Increments value of year by 1\n"
   ]
  },
  {
   "cell_type": "code",
   "execution_count": 1,
   "metadata": {},
   "outputs": [
    {
     "name": "stdout",
     "output_type": "stream",
     "text": [
      "Year 0: The value of the a is £46.0\n",
      "Year 1: The value of the a is £24.15\n",
      "Year 2: The value of the a is £12.68\n",
      "Year 3: The value of the a is £6.66\n"
     ]
    }
   ],
   "source": [
    "#Procedure that allows user to pass own parameters (product, starting value, target price and annual depreciation)\n",
    "\n",
    "def depcalc(): #Creates procedure\n",
    "\n",
    "    year = int(0) #Stores variable \"year\"\n",
    "\n",
    "    product = input(\"Enter product: \") #User enters \"product\" variable\n",
    "    \n",
    "    while True: #Loop will keep prompting user input until correct data type is entered. \n",
    "        try:\n",
    "            value = float(input(\"Enter current product value: \")) #User enters current product value\n",
    "            break\n",
    "\n",
    "        except ValueError:\n",
    "            print(\"Please enter current product value (e.g. 120.52): \") #Displays error message prompting user to input correct data type.\n",
    "\n",
    "    while True:\n",
    "        try:        \n",
    "            price = float(input(\"Enter target price: \")) #User enters price that program ends at\n",
    "            break\n",
    "\n",
    "        except ValueError:\n",
    "            print(\"Please enter target price (e.g. 50): \") \n",
    "\n",
    "    while True:\n",
    "        try:    \n",
    "            depreciation = float(input(\"Enter annual depreciation between 0 and 1: \")) #User enters annual depreciation as decimal\n",
    "            break\n",
    "\n",
    "        except ValueError:\n",
    "            print(\"Please enter a number between 0 and 1: \")\n",
    "            \n",
    "    while depreciation > 1 or depreciation < 0: #Loop ensures depreciation input is between 0 and 1\n",
    "        print(\"Please enter a number between 0 and 1: \")\n",
    "        while True:\n",
    "            try:    \n",
    "                depreciation = float(input(\"Enter annual depreciation between 0 and 1: \")) \n",
    "                break\n",
    "\n",
    "            except ValueError:\n",
    "                print(\"Please enter a number between 0 and 1: \")\n",
    "\n",
    "    while value > price: #Loops code below while value of product greater than target price\n",
    "        print(\"Year\", str(year) + \":\", \"The value of the\", str(product), \"is £\" + str(round(value, 2))) #Prints value of product to 2 d.p\n",
    "        value = value - (value * depreciation) #Reduces value of product by depreciation\n",
    "        year = year + 1 #Increments value of year by 1\n",
    "    \n",
    "depcalc() #Calls procedure"
   ]
  },
  {
   "cell_type": "code",
   "execution_count": 3,
   "metadata": {},
   "outputs": [
    {
     "name": "stdout",
     "output_type": "stream",
     "text": [
      "0\n",
      "1\n",
      "2\n",
      "3\n"
     ]
    }
   ],
   "source": [
    "i = 0\n",
    "while i < 6:\n",
    "    print(i)\n",
    "    if i == 3:\n",
    "        break\n",
    "    i += 1\n",
    "\n"
   ]
  }
 ],
 "metadata": {
  "kernelspec": {
   "display_name": "Python 3",
   "language": "python",
   "name": "python3"
  },
  "language_info": {
   "codemirror_mode": {
    "name": "ipython",
    "version": 3
   },
   "file_extension": ".py",
   "mimetype": "text/x-python",
   "name": "python",
   "nbconvert_exporter": "python",
   "pygments_lexer": "ipython3",
   "version": "3.10.10"
  },
  "orig_nbformat": 4,
  "vscode": {
   "interpreter": {
    "hash": "339c49f04c3c286d79b527c9db313156473993867e5da21147d8587653a2178b"
   }
  }
 },
 "nbformat": 4,
 "nbformat_minor": 2
}
