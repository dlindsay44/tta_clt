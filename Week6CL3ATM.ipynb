{
 "cells": [
  {
   "cell_type": "code",
   "execution_count": 49,
   "metadata": {},
   "outputs": [
    {
     "name": "stdout",
     "output_type": "stream",
     "text": [
      "[1]Current balance\n",
      "[2]Withdrawals\n",
      "[3]Deposits\n",
      "[1]Enter amount to deposit\n",
      "[2]Return card\n",
      "[3]Back to main menu\n"
     ]
    }
   ],
   "source": [
    "#Write a program that simulates the behaviour of a basic ATM.\n",
    "#Incomplete\n",
    "\n",
    "current_balance = 1234\n",
    "\n",
    "def main_menu():\n",
    "    print(\"[1]Current balance\")\n",
    "    print(\"[2]Withdrawals\")\n",
    "    print(\"[3]Deposits\")\n",
    "\n",
    "def withdrawal_menu():\n",
    "    print(\"[1]Withdraw £10\")\n",
    "    print(\"[2]Withdraw £20\")\n",
    "    print(\"[3]Withdraw £40\")\n",
    "    print(\"[4]Withdraw £60\")\n",
    "    print(\"[5]Withdraw £80\")\n",
    "    print(\"[6]Withdraw £100\")\n",
    "    print(\"[7]Withdraw other amount\")\n",
    "    print(\"[8]Back to main menu\")\n",
    "\n",
    "def deposit_menu():\n",
    "    print(\"[1]Enter amount to deposit\")\n",
    "    print(\"[2]Return card\")\n",
    "    print(\"[3]Back to main menu\")\n",
    "\n",
    "main_menu()\n",
    "mmoption = input(\"Enter option:\")\n",
    "if mmoption == \"1\":\n",
    "    cur_balance_str = str(current_balance)\n",
    "    print(cur_balance_str)\n",
    "elif mmoption == \"2\":\n",
    "    withdrawal_menu()\n",
    "elif mmoption == \"3\":\n",
    "    deposit_menu()\n",
    "else:\n",
    "    print(\"Error\")\n",
    "        \n",
    "        \n",
    "     \n",
    "    \n"
   ]
  },
  {
   "cell_type": "code",
   "execution_count": null,
   "metadata": {},
   "outputs": [],
   "source": []
  }
 ],
 "metadata": {
  "kernelspec": {
   "display_name": "Python 3",
   "language": "python",
   "name": "python3"
  },
  "language_info": {
   "codemirror_mode": {
    "name": "ipython",
    "version": 3
   },
   "file_extension": ".py",
   "mimetype": "text/x-python",
   "name": "python",
   "nbconvert_exporter": "python",
   "pygments_lexer": "ipython3",
   "version": "3.10.9"
  },
  "orig_nbformat": 4,
  "vscode": {
   "interpreter": {
    "hash": "339c49f04c3c286d79b527c9db313156473993867e5da21147d8587653a2178b"
   }
  }
 },
 "nbformat": 4,
 "nbformat_minor": 2
}
