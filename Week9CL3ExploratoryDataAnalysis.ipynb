{
 "cells": [
  {
   "cell_type": "code",
   "execution_count": 3,
   "metadata": {},
   "outputs": [
    {
     "name": "stdout",
     "output_type": "stream",
     "text": [
      "    Row ID        Order ID  Order Date   Ship Date       Ship Mode  \\\n",
      "0        1  CA-2016-152156  08/11/2016  11/11/2016    Second Class   \n",
      "1        2  CA-2016-152156  08/11/2016  11/11/2016    Second Class   \n",
      "2        3  CA-2016-138688  12/06/2016  16/06/2016    Second Class   \n",
      "3        4  US-2015-108966  11/10/2015  18/10/2015  Standard Class   \n",
      "4        5  US-2015-108966  11/10/2015  18/10/2015  Standard Class   \n",
      "5        6  CA-2014-115812  09/06/2014  14/06/2014  Standard Class   \n",
      "6        7  CA-2014-115812  09/06/2014  14/06/2014  Standard Class   \n",
      "7        8  CA-2014-115812  09/06/2014  14/06/2014  Standard Class   \n",
      "8        9  CA-2014-115812  09/06/2014  14/06/2014  Standard Class   \n",
      "9       10  CA-2014-115812  09/06/2014  14/06/2014  Standard Class   \n",
      "10      11  CA-2014-115812  09/06/2014  14/06/2014  Standard Class   \n",
      "11      12  CA-2014-115812  09/06/2014  14/06/2014  Standard Class   \n",
      "\n",
      "   Customer ID    Customer Name    Segment        Country             City  \\\n",
      "0     CG-12520      Claire Gute   Consumer  United States        Henderson   \n",
      "1     CG-12520      Claire Gute   Consumer  United States        Henderson   \n",
      "2     DV-13045  Darrin Van Huff  Corporate  United States      Los Angeles   \n",
      "3     SO-20335   Sean O'Donnell   Consumer  United States  Fort Lauderdale   \n",
      "4     SO-20335   Sean O'Donnell   Consumer  United States  Fort Lauderdale   \n",
      "5     BH-11710  Brosina Hoffman   Consumer  United States      Los Angeles   \n",
      "6     BH-11710  Brosina Hoffman   Consumer  United States      Los Angeles   \n",
      "7     BH-11710  Brosina Hoffman   Consumer  United States      Los Angeles   \n",
      "8     BH-11710  Brosina Hoffman   Consumer  United States      Los Angeles   \n",
      "9     BH-11710  Brosina Hoffman   Consumer  United States      Los Angeles   \n",
      "10    BH-11710  Brosina Hoffman   Consumer  United States      Los Angeles   \n",
      "11    BH-11710  Brosina Hoffman   Consumer  United States      Los Angeles   \n",
      "\n",
      "    ... Postal Code  Region       Product ID         Category Sub-Category  \\\n",
      "0   ...       42420   South  FUR-BO-10001798        Furniture    Bookcases   \n",
      "1   ...       42420   South  FUR-CH-10000454        Furniture       Chairs   \n",
      "2   ...       90036    West  OFF-LA-10000240  Office Supplies       Labels   \n",
      "3   ...       33311   South  FUR-TA-10000577        Furniture       Tables   \n",
      "4   ...       33311   South  OFF-ST-10000760  Office Supplies      Storage   \n",
      "5   ...       90032    West  FUR-FU-10001487        Furniture  Furnishings   \n",
      "6   ...       90032    West  OFF-AR-10002833  Office Supplies          Art   \n",
      "7   ...       90032    West  TEC-PH-10002275       Technology       Phones   \n",
      "8   ...       90032    West  OFF-BI-10003910  Office Supplies      Binders   \n",
      "9   ...       90032    West  OFF-AP-10002892  Office Supplies   Appliances   \n",
      "10  ...       90032    West  FUR-TA-10001539        Furniture       Tables   \n",
      "11  ...       90032    West  TEC-PH-10002033       Technology       Phones   \n",
      "\n",
      "                                         Product Name      Sales  Quantity  \\\n",
      "0                   Bush Somerset Collection Bookcase   261.9600         2   \n",
      "1   Hon Deluxe Fabric Upholstered Stacking Chairs,...   731.9400         3   \n",
      "2   Self-Adhesive Address Labels for Typewriters b...    14.6200         2   \n",
      "3       Bretford CR4500 Series Slim Rectangular Table   957.5775         5   \n",
      "4                      Eldon Fold 'N Roll Cart System    22.3680         2   \n",
      "5   Eldon Expressions Wood and Plastic Desk Access...    48.8600         7   \n",
      "6                                          Newell 322     7.2800         4   \n",
      "7                      Mitel 5320 IP Phone VoIP phone   907.1520         6   \n",
      "8   DXL Angle-View Binders with Locking Rings by S...    18.5040         3   \n",
      "9                    Belkin F5C206VTEL 6 Outlet Surge   114.9000         5   \n",
      "10           Chromcraft Rectangular Conference Tables  1706.1840         9   \n",
      "11      Konftel 250 Conference phone - Charcoal black   911.4240         4   \n",
      "\n",
      "    Discount    Profit  \n",
      "0       0.00   41.9136  \n",
      "1       0.00  219.5820  \n",
      "2       0.00    6.8714  \n",
      "3       0.45 -383.0310  \n",
      "4       0.20    2.5164  \n",
      "5       0.00   14.1694  \n",
      "6       0.00    1.9656  \n",
      "7       0.20   90.7152  \n",
      "8       0.20    5.7825  \n",
      "9       0.00   34.4700  \n",
      "10      0.20   85.3092  \n",
      "11      0.20   68.3568  \n",
      "\n",
      "[12 rows x 21 columns]\n"
     ]
    }
   ],
   "source": [
    "\"\"\"\n",
    "Use the Pandas library to perform the\n",
    "3 essential steps of any EDA using the\n",
    "file named Superstore_data_sample.csv:\n",
    "1-Data Exploration:\n",
    "Import your file in Pandas and explore\n",
    "the file with key exploration commands\n",
    "and graphs\n",
    "2-Data Cleaning:\n",
    "Remove any rows that have missing\n",
    "values from columns that would be an\n",
    "issue to identify (such as name of a\n",
    "customer, name of a product etc).\n",
    "Replace missing values by zero if\n",
    "justified (give your reasons).\n",
    "\"\"\"\n",
    "#1-Data Exploration: Import your file in Pandas and explore the file with key exploration commands and graphs\n",
    "\n",
    "import pandas as pd\n",
    "sds = pd.read_csv('Superstore_data_sample.csv')\n",
    "print(sds.head(12))"
   ]
  },
  {
   "cell_type": "code",
   "execution_count": 77,
   "metadata": {},
   "outputs": [
    {
     "name": "stdout",
     "output_type": "stream",
     "text": [
      "      Row ID        Order ID  Order Date   Ship Date       Ship Mode  \\\n",
      "9982    9983  US-2016-157728  22/09/2016  28/09/2016  Standard Class   \n",
      "9983    9984  US-2016-157728  22/09/2016  28/09/2016  Standard Class   \n",
      "9984    9985  CA-2015-100251  17/05/2015  23/05/2015  Standard Class   \n",
      "9985    9986  CA-2015-100251  17/05/2015  23/05/2015  Standard Class   \n",
      "9986    9987  CA-2016-125794  29/09/2016  03/10/2016  Standard Class   \n",
      "9987    9988  CA-2017-163629  17/11/2017  21/11/2017  Standard Class   \n",
      "9988    9989  CA-2017-163629  17/11/2017  21/11/2017  Standard Class   \n",
      "9989    9990  CA-2014-110422  21/01/2014  23/01/2014    Second Class   \n",
      "9990    9991  CA-2017-121258  26/02/2017  03/03/2017  Standard Class   \n",
      "9991    9992  CA-2017-121258  26/02/2017  03/03/2017  Standard Class   \n",
      "9992    9993  CA-2017-121258  26/02/2017  03/03/2017  Standard Class   \n",
      "9993    9994  CA-2017-119914  04/05/2017  09/05/2017    Second Class   \n",
      "\n",
      "     Customer ID     Customer Name    Segment        Country          City  \\\n",
      "9982    RC-19960        Ryan Crowe   Consumer  United States  Grand Rapids   \n",
      "9983    RC-19960        Ryan Crowe   Consumer  United States  Grand Rapids   \n",
      "9984    DV-13465  Dianna Vittorini   Consumer  United States    Long Beach   \n",
      "9985    DV-13465  Dianna Vittorini   Consumer  United States    Long Beach   \n",
      "9986    ML-17410      Maris LaWare   Consumer  United States   Los Angeles   \n",
      "9987    RA-19885      Ruben Ausman  Corporate  United States        Athens   \n",
      "9988    RA-19885      Ruben Ausman  Corporate  United States        Athens   \n",
      "9989    TB-21400  Tom Boeckenhauer   Consumer  United States         Miami   \n",
      "9990    DB-13060       Dave Brooks   Consumer  United States    Costa Mesa   \n",
      "9991    DB-13060       Dave Brooks   Consumer  United States    Costa Mesa   \n",
      "9992    DB-13060       Dave Brooks   Consumer  United States    Costa Mesa   \n",
      "9993    CC-12220      Chris Cortes   Consumer  United States   Westminster   \n",
      "\n",
      "      ... Postal Code   Region       Product ID         Category Sub-Category  \\\n",
      "9982  ...       49505  Central  OFF-PA-10002195  Office Supplies        Paper   \n",
      "9983  ...       49505  Central  TEC-PH-10001305       Technology       Phones   \n",
      "9984  ...       11561     East  OFF-LA-10003766  Office Supplies       Labels   \n",
      "9985  ...       11561     East  OFF-SU-10000898  Office Supplies     Supplies   \n",
      "9986  ...       90008     West  TEC-AC-10003399       Technology  Accessories   \n",
      "9987  ...       30605    South  TEC-AC-10001539       Technology  Accessories   \n",
      "9988  ...       30605    South  TEC-PH-10004006       Technology       Phones   \n",
      "9989  ...       33180    South  FUR-FU-10001889        Furniture  Furnishings   \n",
      "9990  ...       92627     West  FUR-FU-10000747        Furniture  Furnishings   \n",
      "9991  ...       92627     West  TEC-PH-10003645       Technology       Phones   \n",
      "9992  ...       92627     West  OFF-PA-10004041  Office Supplies        Paper   \n",
      "9993  ...       92683     West  OFF-AP-10002684  Office Supplies   Appliances   \n",
      "\n",
      "                                           Product Name    Sales  Quantity  \\\n",
      "9982  RSVP Cards & Envelopes, Blank White, 8-1/2\" X ...   35.560         7   \n",
      "9983                   Panasonic KX TS208W Corded phone   97.980         2   \n",
      "9984                     Self-Adhesive Removable Labels   31.500        10   \n",
      "9985  Acme Hot Forged Carbon Steel Scissors with Nic...   55.600         4   \n",
      "9986  Memorex Mini Travel Drive 64 GB USB 2.0 Flash ...   36.240         1   \n",
      "9987  Logitech G430 Surround Sound Gaming Headset wi...   79.990         1   \n",
      "9988                    Panasonic KX - TS880B Telephone  206.100         5   \n",
      "9989                             Ultra Door Pull Handle   25.248         3   \n",
      "9990  Tenex B1-RE Series Chair Mats for Low Pile Car...   91.960         2   \n",
      "9991                              Aastra 57i VoIP phone  258.576         2   \n",
      "9992  It's Hot Message Books with Stickers, 2 3/4\" x 5\"   29.600         4   \n",
      "9993  Acco 7-Outlet Masterpiece Power Center, Wihtou...  243.160         2   \n",
      "\n",
      "      Discount   Profit  \n",
      "9982       0.0  16.7132  \n",
      "9983       0.0  27.4344  \n",
      "9984       0.0  15.1200  \n",
      "9985       0.0  16.1240  \n",
      "9986       0.0  15.2208  \n",
      "9987       0.0  28.7964  \n",
      "9988       0.0  55.6470  \n",
      "9989       0.2   4.1028  \n",
      "9990       0.0  15.6332  \n",
      "9991       0.2  19.3932  \n",
      "9992       0.0  13.3200  \n",
      "9993       0.0  72.9480  \n",
      "\n",
      "[12 rows x 21 columns]\n"
     ]
    }
   ],
   "source": [
    "print(sds.tail(12))"
   ]
  },
  {
   "cell_type": "code",
   "execution_count": 78,
   "metadata": {},
   "outputs": [
    {
     "data": {
      "text/html": [
       "<div>\n",
       "<style scoped>\n",
       "    .dataframe tbody tr th:only-of-type {\n",
       "        vertical-align: middle;\n",
       "    }\n",
       "\n",
       "    .dataframe tbody tr th {\n",
       "        vertical-align: top;\n",
       "    }\n",
       "\n",
       "    .dataframe thead th {\n",
       "        text-align: right;\n",
       "    }\n",
       "</style>\n",
       "<table border=\"1\" class=\"dataframe\">\n",
       "  <thead>\n",
       "    <tr style=\"text-align: right;\">\n",
       "      <th></th>\n",
       "      <th>Row ID</th>\n",
       "      <th>Postal Code</th>\n",
       "      <th>Sales</th>\n",
       "      <th>Quantity</th>\n",
       "      <th>Discount</th>\n",
       "      <th>Profit</th>\n",
       "    </tr>\n",
       "  </thead>\n",
       "  <tbody>\n",
       "    <tr>\n",
       "      <th>count</th>\n",
       "      <td>9994.000000</td>\n",
       "      <td>9994.000000</td>\n",
       "      <td>9989.000000</td>\n",
       "      <td>9994.000000</td>\n",
       "      <td>9994.000000</td>\n",
       "      <td>9994.000000</td>\n",
       "    </tr>\n",
       "    <tr>\n",
       "      <th>mean</th>\n",
       "      <td>4997.500000</td>\n",
       "      <td>55190.379428</td>\n",
       "      <td>229.955257</td>\n",
       "      <td>3.789574</td>\n",
       "      <td>0.156203</td>\n",
       "      <td>28.656896</td>\n",
       "    </tr>\n",
       "    <tr>\n",
       "      <th>std</th>\n",
       "      <td>2885.163629</td>\n",
       "      <td>32063.693350</td>\n",
       "      <td>623.385594</td>\n",
       "      <td>2.225110</td>\n",
       "      <td>0.206452</td>\n",
       "      <td>234.260108</td>\n",
       "    </tr>\n",
       "    <tr>\n",
       "      <th>min</th>\n",
       "      <td>1.000000</td>\n",
       "      <td>1040.000000</td>\n",
       "      <td>0.444000</td>\n",
       "      <td>1.000000</td>\n",
       "      <td>0.000000</td>\n",
       "      <td>-6599.978000</td>\n",
       "    </tr>\n",
       "    <tr>\n",
       "      <th>25%</th>\n",
       "      <td>2499.250000</td>\n",
       "      <td>23223.000000</td>\n",
       "      <td>17.280000</td>\n",
       "      <td>2.000000</td>\n",
       "      <td>0.000000</td>\n",
       "      <td>1.728750</td>\n",
       "    </tr>\n",
       "    <tr>\n",
       "      <th>50%</th>\n",
       "      <td>4997.500000</td>\n",
       "      <td>56430.500000</td>\n",
       "      <td>54.500000</td>\n",
       "      <td>3.000000</td>\n",
       "      <td>0.200000</td>\n",
       "      <td>8.666500</td>\n",
       "    </tr>\n",
       "    <tr>\n",
       "      <th>75%</th>\n",
       "      <td>7495.750000</td>\n",
       "      <td>90008.000000</td>\n",
       "      <td>209.970000</td>\n",
       "      <td>5.000000</td>\n",
       "      <td>0.200000</td>\n",
       "      <td>29.364000</td>\n",
       "    </tr>\n",
       "    <tr>\n",
       "      <th>max</th>\n",
       "      <td>9994.000000</td>\n",
       "      <td>99301.000000</td>\n",
       "      <td>22638.480000</td>\n",
       "      <td>14.000000</td>\n",
       "      <td>0.800000</td>\n",
       "      <td>8399.976000</td>\n",
       "    </tr>\n",
       "  </tbody>\n",
       "</table>\n",
       "</div>"
      ],
      "text/plain": [
       "            Row ID   Postal Code         Sales     Quantity     Discount  \\\n",
       "count  9994.000000   9994.000000   9989.000000  9994.000000  9994.000000   \n",
       "mean   4997.500000  55190.379428    229.955257     3.789574     0.156203   \n",
       "std    2885.163629  32063.693350    623.385594     2.225110     0.206452   \n",
       "min       1.000000   1040.000000      0.444000     1.000000     0.000000   \n",
       "25%    2499.250000  23223.000000     17.280000     2.000000     0.000000   \n",
       "50%    4997.500000  56430.500000     54.500000     3.000000     0.200000   \n",
       "75%    7495.750000  90008.000000    209.970000     5.000000     0.200000   \n",
       "max    9994.000000  99301.000000  22638.480000    14.000000     0.800000   \n",
       "\n",
       "            Profit  \n",
       "count  9994.000000  \n",
       "mean     28.656896  \n",
       "std     234.260108  \n",
       "min   -6599.978000  \n",
       "25%       1.728750  \n",
       "50%       8.666500  \n",
       "75%      29.364000  \n",
       "max    8399.976000  "
      ]
     },
     "execution_count": 78,
     "metadata": {},
     "output_type": "execute_result"
    }
   ],
   "source": [
    "sds.describe()"
   ]
  },
  {
   "cell_type": "code",
   "execution_count": 79,
   "metadata": {},
   "outputs": [
    {
     "data": {
      "text/html": [
       "<div>\n",
       "<style scoped>\n",
       "    .dataframe tbody tr th:only-of-type {\n",
       "        vertical-align: middle;\n",
       "    }\n",
       "\n",
       "    .dataframe tbody tr th {\n",
       "        vertical-align: top;\n",
       "    }\n",
       "\n",
       "    .dataframe thead th {\n",
       "        text-align: right;\n",
       "    }\n",
       "</style>\n",
       "<table border=\"1\" class=\"dataframe\">\n",
       "  <thead>\n",
       "    <tr style=\"text-align: right;\">\n",
       "      <th></th>\n",
       "      <th>Order ID</th>\n",
       "      <th>Order Date</th>\n",
       "      <th>Ship Date</th>\n",
       "      <th>Ship Mode</th>\n",
       "      <th>Customer ID</th>\n",
       "      <th>Customer Name</th>\n",
       "      <th>Segment</th>\n",
       "      <th>Country</th>\n",
       "      <th>City</th>\n",
       "      <th>State</th>\n",
       "      <th>Region</th>\n",
       "      <th>Product ID</th>\n",
       "      <th>Category</th>\n",
       "      <th>Sub-Category</th>\n",
       "      <th>Product Name</th>\n",
       "    </tr>\n",
       "  </thead>\n",
       "  <tbody>\n",
       "    <tr>\n",
       "      <th>count</th>\n",
       "      <td>9994</td>\n",
       "      <td>9994</td>\n",
       "      <td>9994</td>\n",
       "      <td>9994</td>\n",
       "      <td>9994</td>\n",
       "      <td>9981</td>\n",
       "      <td>9994</td>\n",
       "      <td>9994</td>\n",
       "      <td>9994</td>\n",
       "      <td>9994</td>\n",
       "      <td>9994</td>\n",
       "      <td>9994</td>\n",
       "      <td>9994</td>\n",
       "      <td>9994</td>\n",
       "      <td>9982</td>\n",
       "    </tr>\n",
       "    <tr>\n",
       "      <th>unique</th>\n",
       "      <td>5009</td>\n",
       "      <td>1237</td>\n",
       "      <td>1334</td>\n",
       "      <td>4</td>\n",
       "      <td>793</td>\n",
       "      <td>793</td>\n",
       "      <td>3</td>\n",
       "      <td>1</td>\n",
       "      <td>531</td>\n",
       "      <td>49</td>\n",
       "      <td>4</td>\n",
       "      <td>1862</td>\n",
       "      <td>3</td>\n",
       "      <td>17</td>\n",
       "      <td>1850</td>\n",
       "    </tr>\n",
       "    <tr>\n",
       "      <th>top</th>\n",
       "      <td>CA-2017-100111</td>\n",
       "      <td>05/09/2016</td>\n",
       "      <td>16/12/2015</td>\n",
       "      <td>Standard Class</td>\n",
       "      <td>WB-21850</td>\n",
       "      <td>William Brown</td>\n",
       "      <td>Consumer</td>\n",
       "      <td>United States</td>\n",
       "      <td>New York City</td>\n",
       "      <td>California</td>\n",
       "      <td>West</td>\n",
       "      <td>OFF-PA-10001970</td>\n",
       "      <td>Office Supplies</td>\n",
       "      <td>Binders</td>\n",
       "      <td>Staple envelope</td>\n",
       "    </tr>\n",
       "    <tr>\n",
       "      <th>freq</th>\n",
       "      <td>14</td>\n",
       "      <td>38</td>\n",
       "      <td>35</td>\n",
       "      <td>5968</td>\n",
       "      <td>37</td>\n",
       "      <td>37</td>\n",
       "      <td>5191</td>\n",
       "      <td>9994</td>\n",
       "      <td>915</td>\n",
       "      <td>2001</td>\n",
       "      <td>3203</td>\n",
       "      <td>19</td>\n",
       "      <td>6026</td>\n",
       "      <td>1523</td>\n",
       "      <td>48</td>\n",
       "    </tr>\n",
       "  </tbody>\n",
       "</table>\n",
       "</div>"
      ],
      "text/plain": [
       "              Order ID  Order Date   Ship Date       Ship Mode Customer ID  \\\n",
       "count             9994        9994        9994            9994        9994   \n",
       "unique            5009        1237        1334               4         793   \n",
       "top     CA-2017-100111  05/09/2016  16/12/2015  Standard Class    WB-21850   \n",
       "freq                14          38          35            5968          37   \n",
       "\n",
       "        Customer Name   Segment        Country           City       State  \\\n",
       "count            9981      9994           9994           9994        9994   \n",
       "unique            793         3              1            531          49   \n",
       "top     William Brown  Consumer  United States  New York City  California   \n",
       "freq               37      5191           9994            915        2001   \n",
       "\n",
       "       Region       Product ID         Category Sub-Category     Product Name  \n",
       "count    9994             9994             9994         9994             9982  \n",
       "unique      4             1862                3           17             1850  \n",
       "top      West  OFF-PA-10001970  Office Supplies      Binders  Staple envelope  \n",
       "freq     3203               19             6026         1523               48  "
      ]
     },
     "execution_count": 79,
     "metadata": {},
     "output_type": "execute_result"
    }
   ],
   "source": [
    "sds.describe(include = object)"
   ]
  },
  {
   "cell_type": "code",
   "execution_count": 6,
   "metadata": {},
   "outputs": [
    {
     "name": "stdout",
     "output_type": "stream",
     "text": [
      "<class 'pandas.core.frame.DataFrame'>\n",
      "RangeIndex: 9994 entries, 0 to 9993\n",
      "Data columns (total 21 columns):\n",
      " #   Column         Non-Null Count  Dtype  \n",
      "---  ------         --------------  -----  \n",
      " 0   Row ID         9994 non-null   int64  \n",
      " 1   Order ID       9994 non-null   object \n",
      " 2   Order Date     9994 non-null   object \n",
      " 3   Ship Date      9994 non-null   object \n",
      " 4   Ship Mode      9994 non-null   object \n",
      " 5   Customer ID    9994 non-null   object \n",
      " 6   Customer Name  9981 non-null   object \n",
      " 7   Segment        9994 non-null   object \n",
      " 8   Country        9994 non-null   object \n",
      " 9   City           9994 non-null   object \n",
      " 10  State          9994 non-null   object \n",
      " 11  Postal Code    9994 non-null   int64  \n",
      " 12  Region         9994 non-null   object \n",
      " 13  Product ID     9994 non-null   object \n",
      " 14  Category       9994 non-null   object \n",
      " 15  Sub-Category   9994 non-null   object \n",
      " 16  Product Name   9982 non-null   object \n",
      " 17  Sales          9989 non-null   float64\n",
      " 18  Quantity       9994 non-null   int64  \n",
      " 19  Discount       9994 non-null   float64\n",
      " 20  Profit         9994 non-null   float64\n",
      "dtypes: float64(3), int64(3), object(15)\n",
      "memory usage: 1.6+ MB\n",
      "None\n"
     ]
    }
   ],
   "source": [
    "print(sds.info())"
   ]
  },
  {
   "cell_type": "code",
   "execution_count": 24,
   "metadata": {},
   "outputs": [
    {
     "data": {
      "image/png": "[encoded data removed]",
      "text/plain": [
       "<Figure size 640x480 with 1 Axes>"
      ]
     },
     "metadata": {},
     "output_type": "display_data"
    }
   ],
   "source": [
    "import matplotlib.pyplot as plt #Allows graphs to be used\n",
    "import numpy as np \n",
    "\n",
    "sds.plot(kind = \"scatter\", x = \"Sales\", y = \"Profit\") #Scatter graph used as good for finding correlations between quantitative variables\n",
    "plt.show()"
   ]
  },
  {
   "cell_type": "code",
   "execution_count": 33,
   "metadata": {},
   "outputs": [
    {
     "data": {
      "image/png": "[encoded data removed]",
      "text/plain": [
       "<Figure size 640x480 with 1 Axes>"
      ]
     },
     "metadata": {},
     "output_type": "display_data"
    }
   ],
   "source": [
    "sds.plot(kind = \"scatter\", x = \"Profit\", y = \"Quantity\")\n",
    "plt.show()"
   ]
  },
  {
   "cell_type": "code",
   "execution_count": 4,
   "metadata": {},
   "outputs": [
    {
     "name": "stdout",
     "output_type": "stream",
     "text": [
      "<class 'pandas.core.frame.DataFrame'>\n",
      "Int64Index: 9964 entries, 0 to 9993\n",
      "Data columns (total 21 columns):\n",
      " #   Column         Non-Null Count  Dtype  \n",
      "---  ------         --------------  -----  \n",
      " 0   Row ID         9964 non-null   int64  \n",
      " 1   Order ID       9964 non-null   object \n",
      " 2   Order Date     9964 non-null   object \n",
      " 3   Ship Date      9964 non-null   object \n",
      " 4   Ship Mode      9964 non-null   object \n",
      " 5   Customer ID    9964 non-null   object \n",
      " 6   Customer Name  9964 non-null   object \n",
      " 7   Segment        9964 non-null   object \n",
      " 8   Country        9964 non-null   object \n",
      " 9   City           9964 non-null   object \n",
      " 10  State          9964 non-null   object \n",
      " 11  Postal Code    9964 non-null   int64  \n",
      " 12  Region         9964 non-null   object \n",
      " 13  Product ID     9964 non-null   object \n",
      " 14  Category       9964 non-null   object \n",
      " 15  Sub-Category   9964 non-null   object \n",
      " 16  Product Name   9964 non-null   object \n",
      " 17  Sales          9964 non-null   float64\n",
      " 18  Quantity       9964 non-null   int64  \n",
      " 19  Discount       9964 non-null   float64\n",
      " 20  Profit         9964 non-null   float64\n",
      "dtypes: float64(3), int64(3), object(15)\n",
      "memory usage: 1.7+ MB\n",
      "None\n"
     ]
    }
   ],
   "source": [
    "\"\"\"\n",
    "2-Data Cleaning:\n",
    "Remove any rows that have missing\n",
    "values from columns that would be an\n",
    "issue to identify (such as name of a\n",
    "customer, name of a product etc).\n",
    "Replace missing values by zero if\n",
    "justified (give your reasons).\n",
    "\"\"\"\n",
    "#Missing values not replaced by zero as would skew data analysis such as averaging or graphing.\n",
    "#Missing values should be removed or estimated using averages of similar values. Here, they are removed.\n",
    "#Only 30 out of 9994 missing rows so analysis shouldn't be heavily affected.\n",
    "sds2 = sds #Duplicate dataset so original is unaltered\n",
    "sds2.dropna(inplace = True)\n",
    "print(sds2.info())"
   ]
  },
  {
   "cell_type": "code",
   "execution_count": 5,
   "metadata": {},
   "outputs": [
    {
     "name": "stdout",
     "output_type": "stream",
     "text": [
      "Categories: 3\n",
      "Sub-categories: 17\n"
     ]
    }
   ],
   "source": [
    "\"\"\"\n",
    "3. Data Analysis & Visualisation:\n",
    "-How many categories and sub-categories of\n",
    "products there are?\n",
    "-Which products were sold the most and the\n",
    "least?\n",
    "-Which products were sold the most in the\n",
    "different US regions?\n",
    "-Which States sold the most?\n",
    "-Which products were the most successful\n",
    "each year?\n",
    "-Which customers ordered the most and\n",
    "what was the total value of their purchases?\n",
    "-How many customers brought products\n",
    "each year?\n",
    "-How many customer segments there are in\n",
    "the dataset?\n",
    "\"\"\"\n",
    "#-How many categories and sub-categories of products there are?\n",
    "print('Categories:', sds2['Category'].nunique()) #'nunique' counts number of unique values in column\n",
    "print('Sub-categories:', sds2['Sub-Category'].nunique())"
   ]
  },
  {
   "cell_type": "code",
   "execution_count": 7,
   "metadata": {},
   "outputs": [
    {
     "data": {
      "text/plain": [
       "Product Name\n",
       "Staples                                                                      206\n",
       "Staple envelope                                                              170\n",
       "Easy-staple paper                                                            150\n",
       "Staples in misc. colors                                                       86\n",
       "KI Adjustable-Height Table                                                    74\n",
       "                                                                            ... \n",
       "Global Enterprise Series Seating Low-Back Swivel/Tilt Chairs                   1\n",
       "Penpower WorldCard Pro Card Scanner                                            1\n",
       "Xerox 20                                                                       1\n",
       "Boston 1900 Electric Pencil Sharpener                                          1\n",
       "Bush Saratoga Collection 5-Shelf Bookcase, Hanover Cherry, *Special Order      1\n",
       "Name: Quantity, Length: 1850, dtype: int64"
      ]
     },
     "execution_count": 7,
     "metadata": {},
     "output_type": "execute_result"
    }
   ],
   "source": [
    "#-Which products were sold the most and the least?\n",
    "#Top and bottom 5 products in terms of quantity\n",
    "qua = sds2.groupby('Product Name')['Quantity'].sum() #Sums products quantities\n",
    "qua.sort_values(ascending = False) #Sorts results by descending order"
   ]
  },
  {
   "cell_type": "code",
   "execution_count": 8,
   "metadata": {},
   "outputs": [
    {
     "data": {
      "text/plain": [
       "Product Name\n",
       "Canon imageCLASS 2200 Advanced Copier                                          61599.824\n",
       "Fellowes PB500 Electric Punch Plastic Comb Binding Machine with Manual Bind    27453.384\n",
       "Cisco TelePresence System EX90 Videoconferencing Unit                          22638.480\n",
       "HON 5400 Series Task Chairs for Big and Tall                                   21870.576\n",
       "GBC DocuBind TL300 Electric Binding System                                     19823.479\n",
       "                                                                                 ...    \n",
       "Avery Hi-Liter Pen Style Six-Color Fluorescent Set                                 7.700\n",
       "Grip Seal Envelopes                                                                7.072\n",
       "Xerox 20                                                                           6.480\n",
       "Avery 5                                                                            5.760\n",
       "Eureka Disposable Bags for Sanitaire Vibra Groomer I Upright Vac                   1.624\n",
       "Name: Sales, Length: 1850, dtype: float64"
      ]
     },
     "execution_count": 8,
     "metadata": {},
     "output_type": "execute_result"
    }
   ],
   "source": [
    "#Top and bottom 5 products in terms of sales\n",
    "sal = sds2.groupby('Product Name')['Sales'].sum()\n",
    "sal.sort_values(ascending = False)"
   ]
  },
  {
   "cell_type": "code",
   "execution_count": 12,
   "metadata": {},
   "outputs": [
    {
     "data": {
      "text/plain": [
       "State\n",
       "California        7648\n",
       "New York          4212\n",
       "Texas             3714\n",
       "Pennsylvania      2153\n",
       "Washington        1883\n",
       "Illinois          1834\n",
       "Ohio              1724\n",
       "Florida           1377\n",
       "North Carolina     983\n",
       "Michigan           943\n",
       "Name: Quantity, dtype: int64"
      ]
     },
     "execution_count": 12,
     "metadata": {},
     "output_type": "execute_result"
    }
   ],
   "source": [
    "#-Which States sold the most?\n",
    "#Top 10 states by quantity of products sold\n",
    "sal = sds2.groupby('State')['Quantity'].sum().nlargest(10) #'.nlargest' limits results returned to 10  \n",
    "sal.sort_values(ascending = False) "
   ]
  },
  {
   "cell_type": "code",
   "execution_count": 43,
   "metadata": {},
   "outputs": [
    {
     "data": {
      "text/plain": [
       "<AxesSubplot: >"
      ]
     },
     "execution_count": 43,
     "metadata": {},
     "output_type": "execute_result"
    },
    {
     "data": {
      "image/png": "[encoded data removed]",
      "text/plain": [
       "<Figure size 640x480 with 1 Axes>"
      ]
     },
     "metadata": {},
     "output_type": "display_data"
    }
   ],
   "source": [
    "#Bar plot of top five states by total quantity sold\n",
    "plotdata = pd.DataFrame(\n",
    "    {\"Quantity of products sold\": [1883, 2153, 3714, 4212, 7648]}, \n",
    "    index=[\"Washington\", \"Pennsylvania\", \"Texas\", \"New York\", \"California\"])\n",
    "\n",
    "plotdata.plot(kind=\"bar\")"
   ]
  },
  {
   "cell_type": "code",
   "execution_count": 16,
   "metadata": {},
   "outputs": [
    {
     "data": {
      "text/plain": [
       "State\n",
       "California      457435.1875\n",
       "New York        310425.8750\n",
       "Texas           169845.2898\n",
       "Washington      138641.2700\n",
       "Pennsylvania    116511.9140\n",
       "Florida          89295.3240\n",
       "Illinois         80071.6010\n",
       "Ohio             76305.3900\n",
       "Michigan         76250.5640\n",
       "Virginia         70560.8400\n",
       "Name: Sales, dtype: float64"
      ]
     },
     "execution_count": 16,
     "metadata": {},
     "output_type": "execute_result"
    }
   ],
   "source": [
    "#Top 10 states by sales\n",
    "qua = sds2.groupby('State')['Sales'].sum().nlargest(10) \n",
    "qua.sort_values(ascending = False) "
   ]
  },
  {
   "cell_type": "code",
   "execution_count": 44,
   "metadata": {},
   "outputs": [
    {
     "data": {
      "text/plain": [
       "<AxesSubplot: >"
      ]
     },
     "execution_count": 44,
     "metadata": {},
     "output_type": "execute_result"
    },
    {
     "data": {
      "image/png": "[encoded data removed]",
      "text/plain": [
       "<Figure size 640x480 with 1 Axes>"
      ]
     },
     "metadata": {},
     "output_type": "display_data"
    }
   ],
   "source": [
    "#Bar plot of top five states by sales\n",
    "plotdata = pd.DataFrame(\n",
    "    {\"Sales\": [116512, 138641, 169845, 310426,  457435]}, \n",
    "    index=[\"Pennsylvania\", \"Washington\", \"Texas\", \"New York\", \"California\"])\n",
    "\n",
    "plotdata.plot(kind=\"bar\")\n",
    "\n",
    "#Analysis: Washington recorded higher sales than Pennsylvania despite selling fewer products.\n",
    "#California, New York and Texas were 1st, 2nd and 3rd respectively for both quantity of products sold and sales revenue.\n",
    "#Florida was not in the top 5 for quantity or sales despite being the 3rd largest state by population."
   ]
  },
  {
   "cell_type": "code",
   "execution_count": 21,
   "metadata": {},
   "outputs": [
    {
     "data": {
      "text/plain": [
       "WB-21850    37\n",
       "JL-15835    34\n",
       "PP-18955    34\n",
       "MA-17560    34\n",
       "JD-15895    32\n",
       "EH-13765    32\n",
       "CK-12205    32\n",
       "SV-20365    32\n",
       "EP-13915    31\n",
       "ZC-21910    31\n",
       "Name: Customer ID, dtype: int64"
      ]
     },
     "execution_count": 21,
     "metadata": {},
     "output_type": "execute_result"
    }
   ],
   "source": [
    "#Which customers ordered the most and what was the total value of their purchases?\n",
    "#Top 10 customers by number of orders\n",
    "cid = sds2['Customer ID'].value_counts().nlargest(10) #'value_counts' counts unique occurences in column\n",
    "cid.sort_values(ascending = False) "
   ]
  },
  {
   "cell_type": "code",
   "execution_count": 45,
   "metadata": {},
   "outputs": [
    {
     "data": {
      "text/plain": [
       "<AxesSubplot: >"
      ]
     },
     "execution_count": 45,
     "metadata": {},
     "output_type": "execute_result"
    },
    {
     "data": {
      "image/png": "[encoded data removed]",
      "text/plain": [
       "<Figure size 640x480 with 1 Axes>"
      ]
     },
     "metadata": {},
     "output_type": "display_data"
    }
   ],
   "source": [
    "#Bar plot of top five customers by orders\n",
    "plotdata = pd.DataFrame(\n",
    "    {\"Number of orders\": [32, 34, 34, 34, 37]}, \n",
    "    index=[\"JD-15895\", \"MA-17560\", \"PP-18955\", \"JL-15835\", \"WB-21850\"])\n",
    "\n",
    "plotdata.plot(kind=\"bar\")"
   ]
  },
  {
   "cell_type": "code",
   "execution_count": 46,
   "metadata": {},
   "outputs": [
    {
     "data": {
      "text/plain": [
       "Customer ID\n",
       "SM-20320    25043.050\n",
       "TC-20980    19052.218\n",
       "RB-19360    15117.339\n",
       "TA-21385    14595.620\n",
       "AB-10105    14473.571\n",
       "KL-16645    14175.229\n",
       "SC-20095    14142.334\n",
       "HL-15040    12873.298\n",
       "SE-20110    12209.438\n",
       "CC-12370    12129.072\n",
       "Name: Sales, dtype: float64"
      ]
     },
     "execution_count": 46,
     "metadata": {},
     "output_type": "execute_result"
    }
   ],
   "source": [
    "#Total value of top 10 customers' purchases\n",
    "sal = sds2.groupby('Customer ID')['Sales'].sum().nlargest(10) \n",
    "sal.sort_values(ascending = False) "
   ]
  },
  {
   "cell_type": "code",
   "execution_count": 47,
   "metadata": {},
   "outputs": [
    {
     "data": {
      "text/plain": [
       "<AxesSubplot: >"
      ]
     },
     "execution_count": 47,
     "metadata": {},
     "output_type": "execute_result"
    },
    {
     "data": {
      "image/png": "[encoded data removed]",
      "text/plain": [
       "<Figure size 640x480 with 1 Axes>"
      ]
     },
     "metadata": {},
     "output_type": "display_data"
    }
   ],
   "source": [
    "#Bar plot of top five customers by sales\n",
    "plotdata = pd.DataFrame(\n",
    "    {\"Sales\": [14473, 14596,  15117, 19052, 25043]}, \n",
    "    index=[\"AB-10105\", \"TA-21385\", \"RB-19360\", \"TC-20980 \", \"SM-20320 \"])\n",
    "\n",
    "plotdata.plot(kind=\"bar\")\n",
    "\n",
    "#Analyis: The top 10 customers by quantity and by sales share no common customers, suggesting a weak relationship\n",
    "# between sales revenue and quantity of products sold."
   ]
  },
  {
   "cell_type": "code",
   "execution_count": 22,
   "metadata": {},
   "outputs": [
    {
     "name": "stdout",
     "output_type": "stream",
     "text": [
      "Segments: 3\n"
     ]
    }
   ],
   "source": [
    "#How many customer segments in the dataset?\n",
    "\n",
    "print('Segments:', sds['Segment'].nunique())"
   ]
  }
 ],
 "metadata": {
  "kernelspec": {
   "display_name": "Python 3",
   "language": "python",
   "name": "python3"
  },
  "language_info": {
   "codemirror_mode": {
    "name": "ipython",
    "version": 3
   },
   "file_extension": ".py",
   "mimetype": "text/x-python",
   "name": "python",
   "nbconvert_exporter": "python",
   "pygments_lexer": "ipython3",
   "version": "3.10.10"
  },
  "orig_nbformat": 4,
  "vscode": {
   "interpreter": {
    "hash": "339c49f04c3c286d79b527c9db313156473993867e5da21147d8587653a2178b"
   }
  }
 },
 "nbformat": 4,
 "nbformat_minor": 2
}
