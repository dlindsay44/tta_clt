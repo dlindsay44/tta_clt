{
 "cells": [
  {
   "cell_type": "code",
   "execution_count": 22,
   "metadata": {},
   "outputs": [
    {
     "name": "stdout",
     "output_type": "stream",
     "text": [
      "The number of vowels in the string is: 2\n"
     ]
    }
   ],
   "source": [
    "\"\"\"\n",
    "Write a program that iterates\n",
    "through a word and counts the\n",
    "number of vowel.\n",
    "Follow the instructions below:\n",
    "1. Create a variable which enables the\n",
    "user to enter a string\n",
    "2. Create variable count_vowel = 0\n",
    "3. Iterate through the string using a\n",
    "for loop. This loop will want to look\n",
    "through every letter of the word and\n",
    "determine how many vowels are within\n",
    "that word.\n",
    "4. Print out to console an appropriate\n",
    "message to the user which informs\n",
    "them of how many values are in the\n",
    "string.\n",
    "\"\"\"\n",
    "count_vowel = 0 #Stores variable for number of vowels in string\n",
    "vowel_list = [\"a\", \"e\", \"i\", \"o\", \"u\"] #List of vowels\n",
    "string = input(\"Enter a string: \") #Prompts user to enter string and stores as \"string\"\n",
    "for vowels in string: #Creates \"for\" loop for user inputted string\n",
    "    if vowels in vowel_list: #Looks for vowels from \"vowel_list\" in string\n",
    "        count_vowel = count_vowel + 1 #Increments vowel count by 1\n",
    "print(\"The number of vowels in the string is:\", count_vowel) #Prints number of vowels in string"
   ]
  },
  {
   "cell_type": "code",
   "execution_count": 21,
   "metadata": {},
   "outputs": [
    {
     "name": "stdout",
     "output_type": "stream",
     "text": [
      "The number of l's in the string is: 0\n"
     ]
    }
   ],
   "source": [
    "#Procedure that allows user to pass own parameters (string, letter searched for)\n",
    "\n",
    "def lettercounter(): #Creates procedure\n",
    "    count_letter = 0 #Stores variable for number of letters in string\n",
    "    string = input(\"Enter a string: \") #Prompts user to enter string and stores as \"string\"\n",
    "    letter = input(\"Enter a letter to search for:\") #Prompts user to enter letter and stores as \"letter\"\n",
    "    for ltrs in string: #Creates \"for\" loop for user inputted string\n",
    "        if ltrs == letter: #Looks for user-inputted letter in string\n",
    "            count_letter = count_letter + 1 #Increments letter count by 1\n",
    "    print(\"The number of\", str(letter) + \"'s in the string is:\", count_letter) #Prints number of vowels in string\n",
    "\n",
    "lettercounter() #Calls procedure"
   ]
  }
 ],
 "metadata": {
  "kernelspec": {
   "display_name": "Python 3",
   "language": "python",
   "name": "python3"
  },
  "language_info": {
   "codemirror_mode": {
    "name": "ipython",
    "version": 3
   },
   "file_extension": ".py",
   "mimetype": "text/x-python",
   "name": "python",
   "nbconvert_exporter": "python",
   "pygments_lexer": "ipython3",
   "version": "3.10.10"
  },
  "orig_nbformat": 4,
  "vscode": {
   "interpreter": {
    "hash": "339c49f04c3c286d79b527c9db313156473993867e5da21147d8587653a2178b"
   }
  }
 },
 "nbformat": 4,
 "nbformat_minor": 2
}
