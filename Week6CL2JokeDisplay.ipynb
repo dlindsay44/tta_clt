{
 "cells": [
  {
   "cell_type": "code",
   "execution_count": 31,
   "metadata": {},
   "outputs": [
    {
     "name": "stdout",
     "output_type": "stream",
     "text": [
      "\"Why can't pirates learn the alphabet?\"\n",
      "\"They spend their whole lives at C.\"\n"
     ]
    }
   ],
   "source": [
    "\"\"\"\n",
    "Write a program that asks a user\n",
    "for their favourite number\n",
    "between 1 and 100 and then tells\n",
    "them a joke based on the number.\n",
    "You should use a minimum of 3\n",
    "jokes. Follow the instructions\n",
    "below:\n",
    "1. Ask the user to pick a number\n",
    "and store against variable\n",
    "2. Create an IF statement which\n",
    "uses logical operators which prints\n",
    "out a joke based on the number\n",
    "the user picked \n",
    "\"\"\"\n",
    "while True: #Loop will keep prompting user input until correct data type is entered. \n",
    "    try:\n",
    "        jokenum = int(input(\"Enter your favourite number between 1 and 100:\"))\n",
    "        break\n",
    "\n",
    "    except ValueError:\n",
    "        print(\"Please enter your favourite number as an integer (e.g. 6).\") #Displays error message prompting user to input correct data type.\n",
    "\n",
    "if 1 <= jokenum and jokenum <= 25:\n",
    "    print('''\"Where can ye find a pirate who lost his wooden legs?\"\n",
    "\"Right where ye left him.\"''')\n",
    "\n",
    "elif 26 <= jokenum and jokenum <= 50:\n",
    "    print('''\"Why was 6 afraid of 7?\"\n",
    "\"It wasn't. Numbers aren't sentient and therefore incapable of feeling fear.\"''')\n",
    "\n",
    "elif 51 <= jokenum and jokenum <= 75:\n",
    "    print('''\"What has 8 arms, 8 legs and 8 eyes?\"\n",
    "\"8 pirates.\"''')\n",
    "\n",
    "elif 76 <= jokenum and jokenum <= 100:\n",
    "    print(\"Why do dogs always race to the door when the doorbell rings? It's almost never for them.\")\n",
    "\n",
    "else: print('''\"Why can't pirates learn the alphabet?\"\n",
    "\"They spend their whole lives at C.\"''') #Prints joke if integer is less than 1 or greater than 100.\n",
    "\n"
   ]
  }
 ],
 "metadata": {
  "kernelspec": {
   "display_name": "Python 3",
   "language": "python",
   "name": "python3"
  },
  "language_info": {
   "codemirror_mode": {
    "name": "ipython",
    "version": 3
   },
   "file_extension": ".py",
   "mimetype": "text/x-python",
   "name": "python",
   "nbconvert_exporter": "python",
   "pygments_lexer": "ipython3",
   "version": "3.10.9"
  },
  "orig_nbformat": 4,
  "vscode": {
   "interpreter": {
    "hash": "339c49f04c3c286d79b527c9db313156473993867e5da21147d8587653a2178b"
   }
  }
 },
 "nbformat": 4,
 "nbformat_minor": 2
}
