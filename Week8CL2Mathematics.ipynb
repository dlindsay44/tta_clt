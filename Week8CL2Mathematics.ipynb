{
 "cells": [
  {
   "cell_type": "code",
   "execution_count": 9,
   "metadata": {},
   "outputs": [
    {
     "name": "stdout",
     "output_type": "stream",
     "text": [
      "Array 1: [1 2 3 4 5]\n",
      "Array 2: [ 6  7  8  9 10]\n",
      "Add: [ 7  9 11 13 15]\n",
      "Subtract: [-5 -5 -5 -5 -5]\n",
      "Multiply: [ 6 14 24 36 50]\n",
      "Divide: [0.16666667 0.28571429 0.375      0.44444444 0.5       ]\n",
      "Sum: 55\n"
     ]
    }
   ],
   "source": [
    "\"\"\"\n",
    "Complete the following short Mathematics tasks\n",
    "1. Write a NumPy program to add, subtract, multiply, divide arguments elementwise.\n",
    "2. Write a NumPy program to round elements of the array to the nearest integer.\n",
    "3. Write a NumPy program to get true division of the element-wise array inputs.\n",
    "\"\"\"\n",
    "#1. Write a NumPy program to add, subtract, multiply, divide arguments elementwise.\n",
    "import numpy as np\n",
    "arr1  = np.array([1, 2, 3, 4, 5])\n",
    "arr2 = np.array([6, 7, 8 , 9, 10])\n",
    "print(\"Array 1:\", arr1)\n",
    "print(\"Array 2:\", arr2)\n",
    "\n",
    "arradd = np.add(arr1, arr2) #'add' sums elements of two arrays and puts results in new array\n",
    "print(\"Add:\", arradd)\n",
    "\n",
    "arrsub = np.subtract(arr1, arr2) #'subtract' subtracts elements of one array from another array and puts results in new array\n",
    "print(\"Subtract:\", arrsub)\n",
    "\n",
    "arrmult = np.multiply(arr1, arr2) #'multiply' multiplies elements of two arrays and puts results in new array\n",
    "print(\"Multiply:\", arrmult)\n",
    "\n",
    "arrdiv = np.divide(arr1, arr2) #'divide' divides elements of one array from another array and puts results in new array\n",
    "print(\"Divide:\", arrdiv)\n",
    "\n",
    "arrsum = np.sum([arr1, arr2]) #'sum' sums elements of two arrays and returns single number \n",
    "print(\"Sum:\", arrsum)\n"
   ]
  },
  {
   "cell_type": "code",
   "execution_count": 11,
   "metadata": {},
   "outputs": [
    {
     "name": "stdout",
     "output_type": "stream",
     "text": [
      "[1. 2. 4. 5. 6.]\n"
     ]
    }
   ],
   "source": [
    "#2. Write a NumPy program to round elements of the array to the nearest integer.\n",
    "import numpy as np\n",
    "arr  = np.array([1.23, 2.01, 3.67, 4.89, 5.96])\n",
    "arr2 = np.around(arr, 0)\n",
    "print(arr2)"
   ]
  },
  {
   "cell_type": "code",
   "execution_count": 13,
   "metadata": {},
   "outputs": [
    {
     "name": "stdout",
     "output_type": "stream",
     "text": [
      "True divide: [5.         6.66666667 7.5        8.         5.        ]\n",
      "Divide: [5.         6.66666667 7.5        8.         5.        ]\n"
     ]
    }
   ],
   "source": [
    "#3. Write a NumPy program to get true division of the element-wise array inputs.\n",
    "import numpy as np\n",
    "arr1  = np.array([10, 20, 30, 40, 50])\n",
    "arr2 = np.array([2, 3, 4, 5, 10])\n",
    "\n",
    "arrtd = np.true_divide(arr1, arr2) #calls same function as 'divide', therefore returns same result\n",
    "print(\"True divide:\", arrtd) \n",
    "\n",
    "arrdiv = np.divide(arr1, arr2) \n",
    "print(\"Divide:\", arrdiv)"
   ]
  },
  {
   "cell_type": "code",
   "execution_count": 31,
   "metadata": {},
   "outputs": [
    {
     "name": "stdout",
     "output_type": "stream",
     "text": [
      "Array 1:\n",
      "[[ 6  9  5]\n",
      " [ 4  3  1]\n",
      " [12 15 90]\n",
      " [23 53  2]\n",
      " [ 8 32 42]]\n",
      "Array 2:\n",
      "[[ 2  3]\n",
      " [ 5  1]\n",
      " [ 9 13]]\n",
      "Dot product:\n",
      "[[ 102   92]\n",
      " [  32   28]\n",
      " [ 909 1221]\n",
      " [ 329  148]\n",
      " [ 554  602]]\n"
     ]
    }
   ],
   "source": [
    "\"\"\"\n",
    "Extension:\n",
    "1. Write a NumPy program to multiply a 5x3 matrix by a 3x2 matrix and create a real matrix product.\n",
    "2. Write a NumPy program to create a random array with 1000 elements and compute the average, variance,\n",
    "standard deviation of the array elements.\n",
    "3. Write a NumPy program to calculate round, floor, ceiling, truncated and round (to the given number of \n",
    "decimals) of the input, elementwise of a given array.\n",
    "4. Write a Python program to find the maximum and minimum value of 1D array.\n",
    "\"\"\"\n",
    "#1. Write a NumPy program to multiply a 5x3 matrix by a 3x2 matrix and create a real matrix product.\n",
    "import numpy as np\n",
    "arr1 = np.array([[6, 9, 5], [4, 3, 1], [12, 15, 90], [23, 53, 2], [8, 32, 42]])\n",
    "arr2 = np.array([[2, 3], [5, 1], [9, 13]])\n",
    "arrx = np.dot(arr1, arr2) #'dot' returns dot product\n",
    "print(\"Array 1:\")\n",
    "print(arr1)\n",
    "print(\"Array 2:\")\n",
    "print(arr2)\n",
    "print(\"Dot product:\")\n",
    "print(arrx)"
   ]
  },
  {
   "cell_type": "code",
   "execution_count": 33,
   "metadata": {},
   "outputs": [
    {
     "name": "stdout",
     "output_type": "stream",
     "text": [
      "Average: 0.5068951434511735\n",
      "Variance: 0.08425752747228757\n",
      "Standard deviation: 0.29027147202625264\n"
     ]
    }
   ],
   "source": [
    "\"\"\"\n",
    "2. Write a NumPy program to create a random array with 1000 elements and compute the average, variance,\n",
    "standard deviation of the array elements.\n",
    "\"\"\"\n",
    "import numpy as np\n",
    "arr = np.random.random((100, 10))\n",
    "x = np.average(arr)\n",
    "y = np.var(arr)\n",
    "z = np.std(arr)\n",
    "print(\"Average:\", x)\n",
    "print(\"Variance:\", y)\n",
    "print(\"Standard deviation:\", z)"
   ]
  },
  {
   "cell_type": "code",
   "execution_count": 35,
   "metadata": {},
   "outputs": [
    {
     "name": "stdout",
     "output_type": "stream",
     "text": [
      "Array:\n",
      "[[0.52623951 0.77219164 0.13817612]\n",
      " [0.73131044 0.45577661 0.18669448]\n",
      " [0.84820533 0.26478517 0.24431499]]\n",
      "Round:\n",
      "[[1. 1. 0.]\n",
      " [1. 0. 0.]\n",
      " [1. 0. 0.]]\n",
      "Floor:\n",
      "[[0. 0. 0.]\n",
      " [0. 0. 0.]\n",
      " [0. 0. 0.]]\n",
      "Ceiling:\n",
      "[[1. 1. 1.]\n",
      " [1. 1. 1.]\n",
      " [1. 1. 1.]]\n",
      "Truncate:\n",
      "[[0. 0. 0.]\n",
      " [0. 0. 0.]\n",
      " [0. 0. 0.]]\n",
      "Round to 2 d.p:\n",
      "[[0.53 0.77 0.14]\n",
      " [0.73 0.46 0.19]\n",
      " [0.85 0.26 0.24]]\n"
     ]
    }
   ],
   "source": [
    "\"\"\"\n",
    "3. Write a NumPy program to calculate round, floor, ceiling, truncated and round (to the given number of \n",
    "decimals) of the input, elementwise of a given array.\n",
    "\"\"\"\n",
    "import numpy as np\n",
    "arr = np.random.random((3, 3))\n",
    "a = np.round(arr)\n",
    "b = np.floor(arr)\n",
    "c = np.ceil(arr)\n",
    "d = np.trunc(arr)\n",
    "e = np.around(arr, 2)\n",
    "print(\"Array:\")\n",
    "print(arr)\n",
    "print(\"Round:\")\n",
    "print(a)\n",
    "print(\"Floor:\")\n",
    "print(b)\n",
    "print(\"Ceiling:\")\n",
    "print(c)\n",
    "print(\"Truncate:\")\n",
    "print(d)\n",
    "print(\"Round to 2 d.p:\")\n",
    "print(e)"
   ]
  },
  {
   "cell_type": "code",
   "execution_count": 42,
   "metadata": {},
   "outputs": [
    {
     "name": "stdout",
     "output_type": "stream",
     "text": [
      "Array:\n",
      "[0.86838597 0.95847189 0.2014718  0.7691289  0.99580483]\n",
      "Maximum:\n",
      "0.9958048291089896\n",
      "Minimum:\n",
      "0.20147179504825874\n"
     ]
    }
   ],
   "source": [
    "#4. Write a Python program to find the maximum and minimum value of 1D array.\n",
    "import numpy as np\n",
    "arr = np.random.random(5)\n",
    "x = np.max(arr)\n",
    "y = np.min(arr)\n",
    "\n",
    "print(\"Array:\")\n",
    "print(arr)\n",
    "print(\"Maximum:\")\n",
    "print(x)\n",
    "print(\"Minimum:\")\n",
    "print(y)"
   ]
  }
 ],
 "metadata": {
  "kernelspec": {
   "display_name": "Python 3",
   "language": "python",
   "name": "python3"
  },
  "language_info": {
   "codemirror_mode": {
    "name": "ipython",
    "version": 3
   },
   "file_extension": ".py",
   "mimetype": "text/x-python",
   "name": "python",
   "nbconvert_exporter": "python",
   "pygments_lexer": "ipython3",
   "version": "3.10.9"
  },
  "orig_nbformat": 4,
  "vscode": {
   "interpreter": {
    "hash": "339c49f04c3c286d79b527c9db313156473993867e5da21147d8587653a2178b"
   }
  }
 },
 "nbformat": 4,
 "nbformat_minor": 2
}
