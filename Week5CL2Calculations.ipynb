{
 "cells": [
  {
   "cell_type": "code",
   "execution_count": 7,
   "metadata": {},
   "outputs": [
    {
     "name": "stdout",
     "output_type": "stream",
     "text": [
      "-5.0 - -20.0 = 15.0\n"
     ]
    }
   ],
   "source": [
    "\"\"\"\n",
    "Create 3 programs to complete the\n",
    "following calculations:\n",
    "\n",
    "1) Takes two numbers from user\n",
    "and outputs a subtraction\n",
    "\"\"\"\n",
    "while True: \n",
    "    try:\n",
    "        n1 = float(input(\"Enter a number:\"))\n",
    "        break\n",
    "\n",
    "    except ValueError:\n",
    "        print(\"Please enter a number (e.g. 5.36).\") \n",
    "    \n",
    "while True:\n",
    "    try:\n",
    "        n2 = float(input(\"Enter a second number:\"))\n",
    "        break\n",
    "\n",
    "    except ValueError:\n",
    "        print(\"Please enter a number (e.g. 5.36).\")\n",
    "\n",
    "x1 = (n1 - n2)\n",
    "print(n1, \"-\", n2, \"=\", x1)"
   ]
  },
  {
   "cell_type": "code",
   "execution_count": 3,
   "metadata": {},
   "outputs": [
    {
     "name": "stdout",
     "output_type": "stream",
     "text": [
      "6.0 - 3.0 = 18.0\n"
     ]
    }
   ],
   "source": [
    "\"\"\"\n",
    "2) Takes two numbers from user\n",
    "and outputs a multiplication\n",
    "\"\"\"\n",
    "while True: \n",
    "    try:\n",
    "        n1 = float(input(\"Enter a number:\"))\n",
    "        break\n",
    "\n",
    "    except ValueError:\n",
    "        print(\"Please enter a number (e.g. 5.36).\") \n",
    "    \n",
    "while True:\n",
    "    try:\n",
    "        n2 = float(input(\"Enter a second number:\"))\n",
    "        break\n",
    "\n",
    "    except ValueError:\n",
    "        print(\"Please enter a number (e.g. 5.36).\")\n",
    "\n",
    "x1 = (n1 * n2)\n",
    "print(n1, \"*\", n2, \"=\", x1)\n"
   ]
  },
  {
   "cell_type": "code",
   "execution_count": 5,
   "metadata": {},
   "outputs": [
    {
     "name": "stdout",
     "output_type": "stream",
     "text": [
      "12.6 / 4.2 = 3.0\n"
     ]
    }
   ],
   "source": [
    "\"\"\"\n",
    "3) Takes two numbers from user\n",
    "and outputs a division\n",
    "\"\"\"\n",
    "while True: \n",
    "    try:\n",
    "        n1 = float(input(\"Enter a number:\"))\n",
    "        break\n",
    "\n",
    "    except ValueError:\n",
    "        print(\"Please enter a number (e.g. 5.36).\") \n",
    "    \n",
    "while True:\n",
    "    try:\n",
    "        n2 = float(input(\"Enter a second number:\"))\n",
    "        break\n",
    "\n",
    "    except ValueError:\n",
    "        print(\"Please enter a number (e.g. 5.36).\")\n",
    "\n",
    "x1 = (n1 / n2)\n",
    "print(n1, \"/\", n2, \"=\", x1)"
   ]
  },
  {
   "cell_type": "code",
   "execution_count": 10,
   "metadata": {},
   "outputs": [
    {
     "name": "stdout",
     "output_type": "stream",
     "text": [
      "53.3521 * 21.7445 = 1160.115 (volume of cylinder rounded to 3 decimal places).\n"
     ]
    }
   ],
   "source": [
    "\"\"\"\n",
    "Extension:\n",
    "Ask for the radius\n",
    "and the depth of a\n",
    "cylinder and work\n",
    "out the total volume\n",
    "(circle area*depth)\n",
    "rounded to three\n",
    "decimal places. (You\n",
    "will need to import\n",
    "the math library and\n",
    "look up the function\n",
    "for rounding\n",
    "decimals)\n",
    "\"\"\"\n",
    "while True: \n",
    "    try:\n",
    "        radius = float(input(\"Enter the cylinder radius:\"))\n",
    "        break\n",
    "\n",
    "    except ValueError:\n",
    "        print(\"Please enter a radius (e.g. 5.36).\") \n",
    "    \n",
    "while True:\n",
    "    try:\n",
    "        depth = float(input(\"Enter the cylinder depth:\"))\n",
    "        break\n",
    "\n",
    "    except ValueError:\n",
    "        print(\"Please enter a depth (e.g. 5.36).\")\n",
    "\n",
    "volume3dp = round(radius * depth, 3) #\"round\" rounds \"radius * depth\" to 3 decimal places\n",
    "\n",
    "print(radius, \"*\", depth, \"=\", volume3dp, \"(volume of cylinder rounded to 3 decimal places).\")"
   ]
  },
  {
   "cell_type": "code",
   "execution_count": 11,
   "metadata": {},
   "outputs": [
    {
     "name": "stdout",
     "output_type": "stream",
     "text": [
      "2.0 ^ 3.0 = 8.0\n"
     ]
    }
   ],
   "source": [
    "#Exponentiation\n",
    "while True: \n",
    "    try:\n",
    "        n1 = float(input(\"Enter a number:\"))\n",
    "        break\n",
    "\n",
    "    except ValueError:\n",
    "        print(\"Please enter a number (e.g. 5.36).\") \n",
    "    \n",
    "while True:\n",
    "    try:\n",
    "        n2 = float(input(\"Enter a second number:\"))\n",
    "        break\n",
    "\n",
    "    except ValueError:\n",
    "        print(\"Please enter a number (e.g. 5.36).\")\n",
    "\n",
    "x1 = (n1 ** n2)\n",
    "print(n1, \"^\", n2, \"=\", x1) #n1 to the power of n2"
   ]
  },
  {
   "cell_type": "code",
   "execution_count": 13,
   "metadata": {},
   "outputs": [
    {
     "name": "stdout",
     "output_type": "stream",
     "text": [
      "11.0 // 3.0 = 3.0\n"
     ]
    }
   ],
   "source": [
    "#Floor division\n",
    "while True: \n",
    "    try:\n",
    "        n1 = float(input(\"Enter a number:\"))\n",
    "        break\n",
    "\n",
    "    except ValueError:\n",
    "        print(\"Please enter a number (e.g. 5.36).\") \n",
    "    \n",
    "while True:\n",
    "    try:\n",
    "        n2 = float(input(\"Enter a second number:\"))\n",
    "        break\n",
    "\n",
    "    except ValueError:\n",
    "        print(\"Please enter a number (e.g. 5.36).\")\n",
    "\n",
    "x1 = (n1 // n2)\n",
    "print(n1, \"//\", n2, \"=\", x1) #Returns n1 divided by n2 rounded down to integer"
   ]
  },
  {
   "cell_type": "code",
   "execution_count": 14,
   "metadata": {},
   "outputs": [
    {
     "name": "stdout",
     "output_type": "stream",
     "text": [
      "11.0 % 3.0 = 2.0\n"
     ]
    }
   ],
   "source": [
    "#Modulus\n",
    "while True: \n",
    "    try:\n",
    "        n1 = float(input(\"Enter a number:\"))\n",
    "        break\n",
    "\n",
    "    except ValueError:\n",
    "        print(\"Please enter a number (e.g. 5.36).\") \n",
    "    \n",
    "while True:\n",
    "    try:\n",
    "        n2 = float(input(\"Enter a second number:\"))\n",
    "        break\n",
    "\n",
    "    except ValueError:\n",
    "        print(\"Please enter a number (e.g. 5.36).\")\n",
    "\n",
    "x1 = (n1 % n2)\n",
    "print(n1, \"%\", n2, \"=\", x1) #Returns remainder of n1 / n2"
   ]
  }
 ],
 "metadata": {
  "kernelspec": {
   "display_name": "Python 3",
   "language": "python",
   "name": "python3"
  },
  "language_info": {
   "codemirror_mode": {
    "name": "ipython",
    "version": 3
   },
   "file_extension": ".py",
   "mimetype": "text/x-python",
   "name": "python",
   "nbconvert_exporter": "python",
   "pygments_lexer": "ipython3",
   "version": "3.10.9"
  },
  "orig_nbformat": 4,
  "vscode": {
   "interpreter": {
    "hash": "663549f8a5b9c8228839aa718ed80604ec94f18eec4661a0c87c6ddb265155e7"
   }
  }
 },
 "nbformat": 4,
 "nbformat_minor": 2
}
