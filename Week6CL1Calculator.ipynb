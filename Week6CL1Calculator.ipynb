{
 "cells": [
  {
   "cell_type": "code",
   "execution_count": 28,
   "metadata": {},
   "outputs": [
    {
     "name": "stdout",
     "output_type": "stream",
     "text": [
      "Error: Please enter an operator.\n"
     ]
    }
   ],
   "source": [
    "\"\"\"\n",
    "Write a program that allows user to enter two numbers,\n",
    "and operator and then completest the calculation.\n",
    "Follow the instructions below:\n",
    "1. Ask user to pick a number.\n",
    "2. Ask user to pick a second number.\n",
    "3. Ask user to pick an operator.\n",
    "4. Create IF statement to carry out maths operation using \n",
    "user choice of numbers and choice of operator.\n",
    "\"\"\"\n",
    "\n",
    "while True: #Loop will keep prompting user input until correct data type is entered. \n",
    "    try:\n",
    "        num1 = float(input(\"Enter the first number:\"))\n",
    "        break\n",
    "\n",
    "    except ValueError:\n",
    "        print(\"Please enter a number (e.g. 120.52).\") #Displays error message prompting user to input correct data type.\n",
    "\n",
    "while True:  \n",
    "    try:\n",
    "        num2 = float(input(\"Enter a second number:\"))\n",
    "        break\n",
    "\n",
    "    except ValueError:\n",
    "        print(\"Please enter a number (e.g. 120.52).\") \n",
    "\n",
    "operator = input(\"Enter an operator:\")\n",
    "\n",
    "if operator == \"+\":\n",
    "   result = str(num1 + num2)\n",
    "   print(num1, \"+\", num2, \"=\", result)\n",
    "\n",
    "elif operator == \"-\":\n",
    "     result = str(num1 - num2)\n",
    "     print(num1, \"-\", num2, \"=\", result)\n",
    "    \n",
    "\n",
    "elif operator == \"*\":\n",
    "     result = str(num1 * num2)\n",
    "     print(num1, \"*\", num2, \"=\", result)\n",
    "     \n",
    "\n",
    "elif operator == \"/\":\n",
    "     result = str(num1 / num2)\n",
    "     print(num1, \"/\", num2, \"=\", result)\n",
    "    \n",
    "\n",
    "elif operator == \"%\":\n",
    "     result = str(num1 % num2)\n",
    "     print(num1, \"%\", num2, \"=\", result)\n",
    "     \n",
    "\n",
    "elif operator == \"**\":\n",
    "     result = str(num1 ** num2)\n",
    "     print(num1, \"**\", num2, \"=\", result)\n",
    "    \n",
    "\n",
    "elif operator == \"//\":\n",
    "     result = str(num1 // num2)\n",
    "     print(num1, \"//\", num2, \"=\", result)\n",
    "    \n",
    "else: print(\"Error: Please enter an operator.\")\n",
    "\n"
   ]
  },
  {
   "cell_type": "code",
   "execution_count": 1,
   "metadata": {},
   "outputs": [
    {
     "name": "stdout",
     "output_type": "stream",
     "text": [
      "[1 2 3 4 5]\n"
     ]
    }
   ],
   "source": [
    "import numpy\n",
    "\n",
    "arr = numpy.array([1, 2, 3, 4, 5])\n",
    "\n",
    "print(arr)"
   ]
  },
  {
   "cell_type": "code",
   "execution_count": 2,
   "metadata": {},
   "outputs": [
    {
     "name": "stdout",
     "output_type": "stream",
     "text": [
      "1.24.2\n"
     ]
    }
   ],
   "source": [
    "import numpy as np\n",
    "\n",
    "print(np.__version__)"
   ]
  }
 ],
 "metadata": {
  "kernelspec": {
   "display_name": "Python 3",
   "language": "python",
   "name": "python3"
  },
  "language_info": {
   "codemirror_mode": {
    "name": "ipython",
    "version": 3
   },
   "file_extension": ".py",
   "mimetype": "text/x-python",
   "name": "python",
   "nbconvert_exporter": "python",
   "pygments_lexer": "ipython3",
   "version": "3.10.9"
  },
  "orig_nbformat": 4,
  "vscode": {
   "interpreter": {
    "hash": "cc2a200e1e6dab10c4dc3986f0e7a998296447c993c26561a1bd050a849d8214"
   }
  }
 },
 "nbformat": 4,
 "nbformat_minor": 2
}
