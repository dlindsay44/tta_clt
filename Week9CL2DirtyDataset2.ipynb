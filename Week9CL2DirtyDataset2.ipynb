{
 "cells": [
  {
   "cell_type": "code",
   "execution_count": 78,
   "metadata": {},
   "outputs": [
    {
     "data": {
      "text/plain": [
       "10"
      ]
     },
     "execution_count": 78,
     "metadata": {},
     "output_type": "execute_result"
    }
   ],
   "source": [
    "\"\"\"\n",
    "1-Open the “errors.csv” file with Excel to check the errors associated to the “Campaign name”. \n",
    "2-Correct the errors that appear in the Data_Analyst_Sample.csv imported with the Pandas into a Python script:\n",
    "2.1 Count how many errors there are in the dataset (you might want to use a loop for this and using the .contains() method to find the errors)\n",
    "2.2Use the .replace() method to correct the errors. Verify the errors have been corrected\n",
    "\"\"\"\n",
    "#2-Correct the errors that appear in the Data_Analyst_Sample.csv imported with the Pandas into a Python script:\n",
    "#2.1 Count how many errors there are in the dataset (you might want to use a loop for this and using the .contains() method to find the errors)\n",
    "\n",
    "import pandas as pd\n",
    "das = pd.read_csv('Data_Analyst_Sample.csv')\n",
    "err = pd.read_csv('errors.csv')\n",
    "\n",
    "das['Campaign Name'].str.endswith('CY21_Q1_LOC_BE_Mercedes_S-Cla_ProgrammaticDisplay_Prospecting').sum() #'.endswith' searches dataset for string in 'Campaign Name' column, '.sum()' totals instances of string"
   ]
  },
  {
   "cell_type": "code",
   "execution_count": 86,
   "metadata": {},
   "outputs": [
    {
     "data": {
      "text/plain": [
       "14"
      ]
     },
     "execution_count": 86,
     "metadata": {},
     "output_type": "execute_result"
    }
   ],
   "source": [
    "das['Campaign Name'].str.endswith('CY21_Q1_LOC_BE_Smart_Fortwo_ProgrammaticVideo_Prosp').sum() \n",
    "\n",
    "#If '.contains' were used here instead of '.endswith', inaccurate result would be returned \n",
    "# as would not be able to distinguish correct string from error string.\n"
   ]
  },
  {
   "cell_type": "code",
   "execution_count": 79,
   "metadata": {},
   "outputs": [
    {
     "data": {
      "text/plain": [
       "15"
      ]
     },
     "execution_count": 79,
     "metadata": {},
     "output_type": "execute_result"
    }
   ],
   "source": [
    "das['Campaign Name'].str.endswith('CY21_Q1_LOC_ES_Smart_Fortwo_ProgrammaticDis_Prospecting').sum() \n"
   ]
  },
  {
   "cell_type": "code",
   "execution_count": 80,
   "metadata": {},
   "outputs": [
    {
     "data": {
      "text/plain": [
       "7"
      ]
     },
     "execution_count": 80,
     "metadata": {},
     "output_type": "execute_result"
    }
   ],
   "source": [
    "das['Campaign Name'].str.endswith('CY21_Q1_LOC_FR_Merc_C-Class_ProgrammaticVideo_Prospecting').sum() "
   ]
  },
  {
   "cell_type": "code",
   "execution_count": 69,
   "metadata": {},
   "outputs": [
    {
     "name": "stdout",
     "output_type": "stream",
     "text": [
      "                                        Campaign Name  Campaign ID  \\\n",
      "0   CY21_Q1_LOC_BE_Mercedes_S-Class_ProgrammaticDi...     25347887   \n",
      "1   CY21_Q1_LOC_BE_Mercedes_S-Class_ProgrammaticDi...     25347887   \n",
      "2   CY21_Q1_LOC_BE_Mercedes_S-Class_ProgrammaticDi...     25347887   \n",
      "3   CY21_Q1_LOC_BE_Mercedes_S-Class_ProgrammaticDi...     25347887   \n",
      "4   CY21_Q1_LOC_BE_Mercedes_S-Class_ProgrammaticDi...     25347887   \n",
      "5   CY21_Q1_LOC_BE_Mercedes_S-Class_ProgrammaticDi...     25347887   \n",
      "6   CY21_Q1_LOC_BE_Mercedes_S-Class_ProgrammaticDi...     25347887   \n",
      "7   CY21_Q1_LOC_BE_Mercedes_S-Class_ProgrammaticDi...     25347887   \n",
      "8   CY21_Q1_LOC_BE_Mercedes_S-Class_ProgrammaticDi...     25347887   \n",
      "9   CY21_Q1_LOC_BE_Mercedes_S-Class_ProgrammaticDi...     25347887   \n",
      "10  CY21_Q1_LOC_BE_Mercedes_S-Class_ProgrammaticDi...     25347887   \n",
      "11  CY21_Q1_LOC_BE_Mercedes_S-Class_ProgrammaticDi...     25347887   \n",
      "12  CY21_Q1_LOC_BE_Mercedes_S-Class_ProgrammaticDi...     25347887   \n",
      "13  CY21_Q1_LOC_BE_Mercedes_S-Class_ProgrammaticDi...     25347887   \n",
      "14  CY21_Q1_LOC_BE_Mercedes_S-Class_ProgrammaticDi...     25347887   \n",
      "15  CY21_Q1_LOC_BE_Mercedes_S-Class_ProgrammaticDi...     25347887   \n",
      "16                                                NaN     25347887   \n",
      "17  CY21_Q1_LOC_BE_Mercedes_S-Class_ProgrammaticDi...     25347887   \n",
      "18  CY21_Q1_LOC_BE_Mercedes_S-Class_ProgrammaticDi...     25347887   \n",
      "19  CY21_Q1_LOC_BE_Mercedes_S-Class_ProgrammaticDi...     25347887   \n",
      "\n",
      "                                            Placement        Date  \\\n",
      "0   BE_Mercedes_S-Class_DV360_DkTbMb_Contextual_16...  05/03/2021   \n",
      "1   BE_Mercedes_S-Class_DV360_DkTbMb_Contextual_16...  06/03/2021   \n",
      "2   BE_Mercedes_S-Class_DV360_DkTbMb_Contextual_16...  07/03/2021   \n",
      "3   BE_Mercedes_S-Class_DV360_DkTbMb_Contextual_16...  08/03/2021   \n",
      "4   BE_Mercedes_S-Class_DV360_DkTbMb_Contextual_16...  09/03/2021   \n",
      "5   BE_Mercedes_S-Class_DV360_DkTbMb_Contextual_16...  10/03/2021   \n",
      "6   BE_Mercedes_S-Class_DV360_DkTbMb_Contextual_16...  11/03/2021   \n",
      "7   BE_Mercedes_S-Class_DV360_DkTbMb_Contextual_16...  12/03/2021   \n",
      "8   BE_Mercedes_S-Class_DV360_DkTbMb_Contextual_16...  13/03/2021   \n",
      "9   BE_Mercedes_S-Class_DV360_DkTbMb_Contextual_16...  14/03/2021   \n",
      "10  BE_Mercedes_S-Class_DV360_DkTbMb_Contextual_16...  15/03/2021   \n",
      "11  BE_Mercedes_S-Class_DV360_DkTbMb_Contextual_16...  16/03/2021   \n",
      "12  BE_Mercedes_S-Class_DV360_DkTbMb_Contextual_16...  17/03/2021   \n",
      "13  BE_Mercedes_S-Class_DV360_DkTbMb_Contextual_16...  18/03/2021   \n",
      "14  BE_Mercedes_S-Class_DV360_DkTbMb_Contextual_16...  19/03/2021   \n",
      "15  BE_Mercedes_S-Class_DV360_DkTbMb_Contextual_16...  20/03/2021   \n",
      "16  BE_Mercedes_S-Class_DV360_DkTbMb_Contextual_16...  21/03/2021   \n",
      "17  BE_Mercedes_S-Class_DV360_DkTbMb_Contextual_16...  22/03/2021   \n",
      "18  BE_Mercedes_S-Class_DV360_DkTbMb_Contextual_16...  23/03/2021   \n",
      "19  BE_Mercedes_S-Class_DV360_DkTbMb_Contextual_16...  24/03/2021   \n",
      "\n",
      "    Impressions  Clicks  Cost  Video Completions  Find A Dealer Conversion  \\\n",
      "0          39.0       0  0.17                  0                         0   \n",
      "1          43.0       0  0.27                  0                         0   \n",
      "2          35.0       0  0.26                  0                         0   \n",
      "3          60.0       0  0.13                  0                         0   \n",
      "4          17.0       0  0.04                  0                         0   \n",
      "5          26.0       0  0.24                  0                         0   \n",
      "6           4.0       0  0.02                  0                         0   \n",
      "7          19.0       0  0.10                  0                         0   \n",
      "8          47.0       0  0.17                  0                         0   \n",
      "9          71.0       0   NaN                  0                         0   \n",
      "10         64.0       0  0.11                  0                         0   \n",
      "11         72.0       0   NaN                  0                         0   \n",
      "12         81.0       0  0.39                  0                         0   \n",
      "13         47.0       0  0.26                  0                         0   \n",
      "14         34.0       0  0.23                  0                         0   \n",
      "15         24.0       0  0.07                  0                         0   \n",
      "16         26.0       0  0.24                  0                         0   \n",
      "17         38.0       0  0.27                  0                         0   \n",
      "18         28.0       0  0.25                  0                         0   \n",
      "19        107.0       0  1.05                  0                         0   \n",
      "\n",
      "    Online Brochure Download  \n",
      "0                          0  \n",
      "1                          0  \n",
      "2                          0  \n",
      "3                          0  \n",
      "4                          0  \n",
      "5                          0  \n",
      "6                          0  \n",
      "7                          0  \n",
      "8                          0  \n",
      "9                          0  \n",
      "10                         0  \n",
      "11                         0  \n",
      "12                         0  \n",
      "13                         0  \n",
      "14                         0  \n",
      "15                         0  \n",
      "16                         0  \n",
      "17                         0  \n",
      "18                         0  \n",
      "19                         0  \n"
     ]
    }
   ],
   "source": [
    "#2.2Use the .replace() method to correct the errors. Verify the errors have been corrected\n",
    "das2 = das #duplicate dataset for test purposes\n",
    "das2.replace('CY21_Q1_LOC_BE_Mercedes_S-Cla_ProgrammaticDisplay_Prospecting', 'CY21_Q1_LOC_BE_Mercedes_S-Class_ProgrammaticDisplay_Prospecting', inplace=True)\n",
    "das2.replace('CY21_Q1_LOC_BE_Smart_Fortwo_ProgrammaticVideo_Prosp', 'CY21_Q1_LOC_BE_Smart_Fortwo_ProgrammaticVideo_Prospecting', inplace=True)\n",
    "das2.replace('CY21_Q1_LOC_ES_Smart_Fortwo_ProgrammaticDis_Prospecting', 'CY21_Q1_LOC_ES_Smart_Fortwo_ProgrammaticDisplay_Prospecting', inplace=True)\n",
    "das2.replace('CY21_Q1_LOC_FR_Merc_C-Class_ProgrammaticVideo_Prospecting', 'CY21_Q1_LOC_FR_Mercedes_C-Class_ProgrammaticVideo_Prospecting', inplace=True)\n",
    "print(das2.head(20)) #Allows some of the error rows to be displayed for verification"
   ]
  },
  {
   "cell_type": "code",
   "execution_count": 93,
   "metadata": {},
   "outputs": [
    {
     "data": {
      "text/plain": [
       "0"
      ]
     },
     "execution_count": 93,
     "metadata": {},
     "output_type": "execute_result"
    }
   ],
   "source": [
    "das2['Campaign Name'].str.endswith('CY21_Q1_LOC_BE_Mercedes_S-Cla_ProgrammaticDisplay_Prospecting').sum()\n",
    "\n",
    "#Same error verification method as before. All results show 0 so all errors corrected."
   ]
  },
  {
   "cell_type": "code",
   "execution_count": 94,
   "metadata": {},
   "outputs": [
    {
     "data": {
      "text/plain": [
       "0"
      ]
     },
     "execution_count": 94,
     "metadata": {},
     "output_type": "execute_result"
    }
   ],
   "source": [
    "das2['Campaign Name'].str.endswith('CY21_Q1_LOC_BE_Smart_Fortwo_ProgrammaticVideo_Prosp').sum() "
   ]
  },
  {
   "cell_type": "code",
   "execution_count": 95,
   "metadata": {},
   "outputs": [
    {
     "data": {
      "text/plain": [
       "0"
      ]
     },
     "execution_count": 95,
     "metadata": {},
     "output_type": "execute_result"
    }
   ],
   "source": [
    "das2['Campaign Name'].str.endswith('CY21_Q1_LOC_ES_Smart_Fortwo_ProgrammaticDis_Prospecting').sum() "
   ]
  },
  {
   "cell_type": "code",
   "execution_count": 96,
   "metadata": {},
   "outputs": [
    {
     "data": {
      "text/plain": [
       "0"
      ]
     },
     "execution_count": 96,
     "metadata": {},
     "output_type": "execute_result"
    }
   ],
   "source": [
    "das2['Campaign Name'].str.endswith('CY21_Q1_LOC_FR_Merc_C-Class_ProgrammaticVideo_Prospecting').sum() "
   ]
  }
 ],
 "metadata": {
  "kernelspec": {
   "display_name": "Python 3",
   "language": "python",
   "name": "python3"
  },
  "language_info": {
   "codemirror_mode": {
    "name": "ipython",
    "version": 3
   },
   "file_extension": ".py",
   "mimetype": "text/x-python",
   "name": "python",
   "nbconvert_exporter": "python",
   "pygments_lexer": "ipython3",
   "version": "3.10.10"
  },
  "orig_nbformat": 4,
  "vscode": {
   "interpreter": {
    "hash": "339c49f04c3c286d79b527c9db313156473993867e5da21147d8587653a2178b"
   }
  }
 },
 "nbformat": 4,
 "nbformat_minor": 2
}
