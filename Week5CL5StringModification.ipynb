{
 "cells": [
  {
   "cell_type": "code",
   "execution_count": 1,
   "metadata": {},
   "outputs": [
    {
     "name": "stdout",
     "output_type": "stream",
     "text": [
      "This is a test string.\n"
     ]
    }
   ],
   "source": [
    "\"\"\"\n",
    "Modify a string which you\n",
    "have created to do the\n",
    "following built-in methods:\n",
    "- Replace\n",
    "- Upper case\n",
    "- Split\n",
    "\"\"\"\n",
    "\n",
    "teststring = \"This is a test string.\"\n",
    "print(teststring)"
   ]
  },
  {
   "cell_type": "code",
   "execution_count": 2,
   "metadata": {},
   "outputs": [
    {
     "name": "stdout",
     "output_type": "stream",
     "text": [
      "This is the test string.\n"
     ]
    }
   ],
   "source": [
    "#Replace\n",
    "\n",
    "teststring = \"This is a test string.\"\n",
    "print(teststring.replace(\"a\", \"the\")) #Replaces \"a\" with \"the\""
   ]
  },
  {
   "cell_type": "code",
   "execution_count": 3,
   "metadata": {},
   "outputs": [
    {
     "name": "stdout",
     "output_type": "stream",
     "text": [
      "THIS IS A TEST STRING.\n"
     ]
    }
   ],
   "source": [
    "#Upper case\n",
    "\n",
    "teststring = \"This is a test string.\"\n",
    "print(teststring.upper()) #Returns string in upper case"
   ]
  },
  {
   "cell_type": "code",
   "execution_count": 5,
   "metadata": {},
   "outputs": [
    {
     "name": "stdout",
     "output_type": "stream",
     "text": [
      "['This', 'is', 'a', 'test', 'string.']\n"
     ]
    }
   ],
   "source": [
    "#Split\n",
    "\n",
    "teststring = \"This is a test string.\"\n",
    "print(teststring.split(\" \")) #Splits string into substrings when instances of seperator found"
   ]
  },
  {
   "cell_type": "code",
   "execution_count": 6,
   "metadata": {},
   "outputs": [
    {
     "name": "stdout",
     "output_type": "stream",
     "text": [
      "this is a test string.\n"
     ]
    }
   ],
   "source": [
    "#Lower case\n",
    " \n",
    "teststring = \"This is a test string.\"\n",
    "print(teststring.lower()) #Returns string in lower case"
   ]
  },
  {
   "cell_type": "code",
   "execution_count": 9,
   "metadata": {},
   "outputs": [
    {
     "name": "stdout",
     "output_type": "stream",
     "text": [
      "    This is a test string.  \n",
      "This is a test string.\n"
     ]
    }
   ],
   "source": [
    "#Remove whitespace\n",
    "\n",
    "teststring = \"    This is a test string.  \"\n",
    "print(teststring) #Test string prints with space before text\n",
    "\n",
    "teststring = \"    This is a test string.  \"\n",
    "print(teststring.strip()) #Test string prints with no space before text"
   ]
  },
  {
   "cell_type": "code",
   "execution_count": 13,
   "metadata": {},
   "outputs": [
    {
     "name": "stdout",
     "output_type": "stream",
     "text": [
      "is a test\n"
     ]
    }
   ],
   "source": [
    "#Slicing\n",
    "\n",
    "teststring = \"This is a test string.\"\n",
    "print(teststring[5:14]) #Starting from 0, returns characters from positions 5 to 14 (14 not included)"
   ]
  },
  {
   "cell_type": "code",
   "execution_count": null,
   "metadata": {},
   "outputs": [],
   "source": []
  }
 ],
 "metadata": {
  "kernelspec": {
   "display_name": "Python 3",
   "language": "python",
   "name": "python3"
  },
  "language_info": {
   "codemirror_mode": {
    "name": "ipython",
    "version": 3
   },
   "file_extension": ".py",
   "mimetype": "text/x-python",
   "name": "python",
   "nbconvert_exporter": "python",
   "pygments_lexer": "ipython3",
   "version": "3.10.9"
  },
  "orig_nbformat": 4,
  "vscode": {
   "interpreter": {
    "hash": "663549f8a5b9c8228839aa718ed80604ec94f18eec4661a0c87c6ddb265155e7"
   }
  }
 },
 "nbformat": 4,
 "nbformat_minor": 2
}
