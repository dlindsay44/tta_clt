{
 "cells": [
  {
   "cell_type": "code",
   "execution_count": 8,
   "metadata": {},
   "outputs": [
    {
     "name": "stdout",
     "output_type": "stream",
     "text": [
      "546.235 * 324.876 = 177458.64186 (float)\n",
      "546.235 * 324.876 = 177458 (integer)\n",
      "546.235 * 324.876 = 177458.64186 (string)\n",
      "546.235 * 324.876 = (177458.64186+0j) (complex)\n",
      "546.235 * 324.876 = True (bool)\n"
     ]
    }
   ],
   "source": [
    "\"\"\"\n",
    "Create a program that:\n",
    "1. Asks the user to input two\n",
    "numbers\n",
    "2. Multiplies the numbers\n",
    "together\n",
    "3. Prints the answer as both\n",
    "an integer and a float\n",
    "\"\"\"\n",
    "\n",
    "while True: \n",
    "    try:\n",
    "        n1 = float(input(\"Enter a number:\"))\n",
    "        break\n",
    "\n",
    "    except ValueError:\n",
    "        print(\"Please enter a number (e.g. 5.36).\") \n",
    "    \n",
    "while True:\n",
    "    try:\n",
    "        n2 = float(input(\"Enter a second number:\"))\n",
    "        break\n",
    "\n",
    "    except ValueError:\n",
    "        print(\"Please enter a number (e.g. 5.36).\")\n",
    "\n",
    "x1 = (n1 * n2)\n",
    "x2 = int(n1 * n2)\n",
    "x3 = str(n1 * n2)\n",
    "x4 = complex(n1 * n2)\n",
    "x5 = bool(n1 * n2)\n",
    "\n",
    "print(n1, \"*\", n2, \"=\", x1, \"(float)\")\n",
    "print(n1, \"*\", n2, \"=\", x2, \"(integer)\")\n",
    "print(n1, \"*\", n2, \"=\", x3, \"(string)\")\n",
    "print(n1, \"*\", n2, \"=\", x4, \"(complex)\")\n",
    "print(n1, \"*\", n2, \"=\", x5, \"(boolean)\")\n",
    "\n",
    "\n"
   ]
  }
 ],
 "metadata": {
  "kernelspec": {
   "display_name": "Python 3",
   "language": "python",
   "name": "python3"
  },
  "language_info": {
   "codemirror_mode": {
    "name": "ipython",
    "version": 3
   },
   "file_extension": ".py",
   "mimetype": "text/x-python",
   "name": "python",
   "nbconvert_exporter": "python",
   "pygments_lexer": "ipython3",
   "version": "3.10.9"
  },
  "orig_nbformat": 4,
  "vscode": {
   "interpreter": {
    "hash": "663549f8a5b9c8228839aa718ed80604ec94f18eec4661a0c87c6ddb265155e7"
   }
  }
 },
 "nbformat": 4,
 "nbformat_minor": 2
}
