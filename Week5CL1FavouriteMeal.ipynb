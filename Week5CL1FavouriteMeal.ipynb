{
 "cells": [
  {
   "cell_type": "code",
   "execution_count": 1,
   "metadata": {},
   "outputs": [
    {
     "name": "stdout",
     "output_type": "stream",
     "text": [
      "Your favourite meal is prawns, pizza and black forest gateau with a glass of dr. pepper.\n"
     ]
    }
   ],
   "source": [
    "\"\"\"\n",
    "Write a program that allows user to\n",
    "enter their favorite starter, main\n",
    "course, dessert and drink.\n",
    "Concatenate these and output a\n",
    "message which says – “Your favourite\n",
    "meal is ………with a glass of….”\n",
    "Follow the instructions below:\n",
    "\n",
    "1. Create 4 variables, one named\n",
    "starter, one named main, one\n",
    "named dessert and one named\n",
    "drink.*/\n",
    "\n",
    "2. Concatenate these into the\n",
    "output message using + to\n",
    "combine the strings.\n",
    "\"\"\"\n",
    "starter = input(\"Enter your favourite starter:\")\n",
    "main = input(\"Enter your favourite main:\")\n",
    "dessert = input(\"Enter your favourite dessert:\")\n",
    "drink = input(\"Enter your favourite drink:\")\n",
    "\n",
    "print(\"Your favourite meal is \" + starter + \",\", main, \"and \" + dessert,\n",
    "\"with a glass of \" + drink + \".\")"
   ]
  },
  {
   "cell_type": "code",
   "execution_count": 2,
   "metadata": {},
   "outputs": [
    {
     "name": "stdout",
     "output_type": "stream",
     "text": [
      "Your favourite meal is prawns, pizza and ice cream with a glass of guinness.\n"
     ]
    }
   ],
   "source": [
    "#String concatenation using f-string.\n",
    "s1 = \"Enter your favourite \"\n",
    "s2 = \"starter:\"\n",
    "s3 = \"main:\"\n",
    "s4 = \"dessert:\"\n",
    "s5 = \"drink:\"\n",
    "\n",
    "starter = input(f\"{s1}{s2}\")\n",
    "main = input(f\"{s1}{s3}\")\n",
    "dessert = input(f\"{s1}{s4}\")\n",
    "drink = input(f\"{s1}{s5}\")\n",
    "\n",
    "print(\"Your favourite meal is \" + starter + \",\", main, \"and \" + dessert,\n",
    "\"with a glass of \" + drink + \".\")\n"
   ]
  },
  {
   "cell_type": "code",
   "execution_count": 3,
   "metadata": {},
   "outputs": [
    {
     "name": "stdout",
     "output_type": "stream",
     "text": [
      "Your favourite meal is calamari, steak and cheesecake with a glass of corona.\n"
     ]
    }
   ],
   "source": [
    "#String concatenation using join() function.\n",
    "s1 = \"Enter your favourite\"\n",
    "s2 = \"starter:\"\n",
    "s3 = \"main:\"\n",
    "s4 = \"dessert:\"\n",
    "s5 = \"drink:\"\n",
    "\n",
    "starter = input(\" \".join([s1, s2])) #Quotation marks used for seperator.\n",
    "main = input(\" \".join([s1, s3]))\n",
    "dessert = input(\" \".join([s1, s4]))\n",
    "drink = input(\" \".join([s1, s5]))\n",
    "\n",
    "print(\"Your favourite meal is \" + starter + \",\", main, \"and \" + dessert,\n",
    "\"with a glass of \" + drink + \".\")\n"
   ]
  },
  {
   "cell_type": "code",
   "execution_count": 4,
   "metadata": {},
   "outputs": [
    {
     "name": "stdout",
     "output_type": "stream",
     "text": [
      "Each person should pay 30.15.\n"
     ]
    }
   ],
   "source": [
    "\"\"\"\n",
    "Extension:\n",
    "Ask for the total\n",
    "price of a bill,\n",
    "then ask how\n",
    "many dinners\n",
    "there are. Divide\n",
    "the total bill by\n",
    "the number of\n",
    "diners and show\n",
    "how much each\n",
    "person should\n",
    "pay.\n",
    "\"\"\"\n",
    "while True: #Loop will keep prompting user input until correct data type is entered. \n",
    "    try:\n",
    "        bill = float(input(\"Enter the total bill:\"))\n",
    "        break\n",
    "\n",
    "    except ValueError:\n",
    "        print(\"Please enter the total bill (e.g. 120.52).\") #Displays error message prompting user to input correct data type.\n",
    "    \n",
    "while True:\n",
    "    try:\n",
    "        dinners = int(input(\"Enter total number of dinners:\"))\n",
    "        break\n",
    "\n",
    "    except ValueError:\n",
    "        print(\"Please enter the number of dinners as an integer (e.g. 6).\")\n",
    "\n",
    "payableperperson = str(bill / dinners)\n",
    "print(\"Each person should pay \" + payableperperson + \".\")"
   ]
  }
 ],
 "metadata": {
  "kernelspec": {
   "display_name": "Python 3",
   "language": "python",
   "name": "python3"
  },
  "language_info": {
   "codemirror_mode": {
    "name": "ipython",
    "version": 3
   },
   "file_extension": ".py",
   "mimetype": "text/x-python",
   "name": "python",
   "nbconvert_exporter": "python",
   "pygments_lexer": "ipython3",
   "version": "3.10.9"
  },
  "orig_nbformat": 4,
  "vscode": {
   "interpreter": {
    "hash": "cc2a200e1e6dab10c4dc3986f0e7a998296447c993c26561a1bd050a849d8214"
   }
  }
 },
 "nbformat": 4,
 "nbformat_minor": 2
}
