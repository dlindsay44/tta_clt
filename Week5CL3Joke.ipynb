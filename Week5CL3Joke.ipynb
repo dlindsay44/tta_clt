{
 "cells": [
  {
   "cell_type": "code",
   "execution_count": 11,
   "metadata": {},
   "outputs": [
    {
     "name": "stdout",
     "output_type": "stream",
     "text": [
      "\"What do you call a bear with no teeth?\"\n",
      "\"A gummy bear!\" \n"
     ]
    }
   ],
   "source": [
    "\"\"\"\n",
    "Write code that will display\n",
    "the joke:\n",
    "“What do you call a bear with\n",
    "no teeth?”\n",
    "and on the next line display\n",
    "the answer: “A gummy bear!”\n",
    "\"\"\"\n",
    "\n",
    "#Method 1\n",
    "joke = \"\"\"\\\"What do you call a bear with no teeth?\"\n",
    "\"A gummy bear!\" \"\"\"\n",
    "print(joke)"
   ]
  },
  {
   "cell_type": "code",
   "execution_count": 10,
   "metadata": {},
   "outputs": [
    {
     "name": "stdout",
     "output_type": "stream",
     "text": [
      "\"What do you call a bear with no teeth?\"\n",
      "\"A gummy bear!\"\n"
     ]
    }
   ],
   "source": [
    "#Method 2\n",
    "joke = '''\"What do you call a bear with no teeth?\"\n",
    "\"A gummy bear!\"'''\n",
    "print(joke)"
   ]
  },
  {
   "cell_type": "code",
   "execution_count": 30,
   "metadata": {},
   "outputs": [
    {
     "name": "stdout",
     "output_type": "stream",
     "text": [
      "\"What do you call a bear with no teeth?\"\n",
      "\"A gummy bear!\"\n"
     ]
    }
   ],
   "source": [
    "#Method 3\n",
    "joke1 = '\"What do you call a bear with no teeth?\"'\n",
    "joke2 = '\"A gummy bear!\"'\n",
    "print(joke1)\n",
    "print(joke2)"
   ]
  }
 ],
 "metadata": {
  "kernelspec": {
   "display_name": "Python 3",
   "language": "python",
   "name": "python3"
  },
  "language_info": {
   "codemirror_mode": {
    "name": "ipython",
    "version": 3
   },
   "file_extension": ".py",
   "mimetype": "text/x-python",
   "name": "python",
   "nbconvert_exporter": "python",
   "pygments_lexer": "ipython3",
   "version": "3.10.10"
  },
  "orig_nbformat": 4,
  "vscode": {
   "interpreter": {
    "hash": "339c49f04c3c286d79b527c9db313156473993867e5da21147d8587653a2178b"
   }
  }
 },
 "nbformat": 4,
 "nbformat_minor": 2
}
